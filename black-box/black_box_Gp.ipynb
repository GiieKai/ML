{
 "cells": [
  {
   "cell_type": "code",
   "execution_count": 2,
   "metadata": {
    "collapsed": true
   },
   "outputs": [],
   "source": [
    "#GP 模型有兩種 一種是考慮距離，一種是一口氣討論10個點\n",
    "import numpy as np\n",
    "import sklearn as sk\n",
    "\n",
    "import pickle\n",
    "import pandas as pd\n",
    "import os\n"
   ]
  },
  {
   "cell_type": "code",
   "execution_count": 62,
   "metadata": {
    "collapsed": true
   },
   "outputs": [],
   "source": [
    "#使用GaussianProcessRegressor套件\n",
    "\n",
    "from sklearn.gaussian_process import GaussianProcessRegressor as gpr\n",
    "from sklearn.gaussian_process.kernels import RationalQuadratic,ConstantKernel"
   ]
  },
  {
   "cell_type": "code",
   "execution_count": 63,
   "metadata": {
    "collapsed": true
   },
   "outputs": [],
   "source": [
    "#先把最一開始的資料Excel叫出來\n",
    "path =r'./data/raw_data/'\n",
    "files = os.listdir(path)\n",
    "raw_Y = {}\n",
    "for f in files:\n",
    "    #print(f)\n",
    "    df = pd.DataFrame()\n",
    "    df = pd.read_excel(path+f)\n",
    "    #print(df)\n",
    "    YY = np.zeros(810)\n",
    "    for i in range(810):\n",
    "        YY[i] = df['y_value'][i]\n",
    "    raw_Y[f] = YY.reshape(810,1)\n",
    "X = np.zeros((810,5))\n",
    "for col in range(0,5):\n",
    "    temp = []\n",
    "    temp = df[col][0:810]\n",
    "    for i in range(810):\n",
    "        X[i][col] = temp[i]\n",
    "raw_X = np.array(X)"
   ]
  },
  {
   "cell_type": "code",
   "execution_count": 64,
   "metadata": {
    "scrolled": true
   },
   "outputs": [
    {
     "name": "stdout",
     "output_type": "stream",
     "text": [
      "(810, 5) (810, 1)\n"
     ]
    }
   ],
   "source": [
    "print(raw_X.shape ,raw_Y['vel_3_data.xlsx'].shape)\n",
    "#是有包含距離的因素"
   ]
  },
  {
   "cell_type": "code",
   "execution_count": 7,
   "metadata": {
    "collapsed": true
   },
   "outputs": [],
   "source": [
    "#使用US所採用的參數\n",
    "# {'alpha': 1e-10,\n",
    "#  'copy_X_train': True,\n",
    "#  'kernel': 1**2 * RationalQuadratic(alpha=0.5, length_scale=3),\n",
    "#  'kernel__k1': 1**2,\n",
    "#  'kernel__k1__constant_value': 1.0,\n",
    "#  'kernel__k1__constant_value_bounds': (0.1, 10.0),\n",
    "#  'kernel__k2': RationalQuadratic(alpha=0.5, length_scale=3),\n",
    "#  'kernel__k2__alpha': 0.5,\n",
    "#  'kernel__k2__alpha_bounds': (0.1, 10.0),\n",
    "#  'kernel__k2__length_scale': 3.0,\n",
    "#  'kernel__k2__length_scale_bounds': (0.1, 10.0),\n",
    "#  'n_restarts_optimizer': 5,\n",
    "#  'normalize_y': False,\n",
    "#  'optimizer': 'fmin_l_bfgs_b',\n",
    "#  'random_state': None}"
   ]
  },
  {
   "cell_type": "code",
   "execution_count": 66,
   "metadata": {
    "collapsed": true
   },
   "outputs": [],
   "source": [
    "kernel_Gp = ConstantKernel(\n",
    "    constant_value=1.0,constant_value_bounds=(0.1,10.0)) * RationalQuadratic(\n",
    "    alpha=0.5,length_scale=3,alpha_bounds=(0.1,10),length_scale_bounds=(0.1,10))"
   ]
  },
  {
   "cell_type": "code",
   "execution_count": 67,
   "metadata": {
    "collapsed": true
   },
   "outputs": [],
   "source": [
    "model_vel_03 = gpr(kernel=kernel_Gp,n_restarts_optimizer=5,normalize_y=\"False\",optimizer='fmin_l_bfgs_b',random_state=None);\n",
    "model_vel_15 = gpr(kernel=kernel_Gp,n_restarts_optimizer=5,normalize_y=\"False\",optimizer='fmin_l_bfgs_b',random_state=None);\n",
    "model_TI_03 = gpr(kernel=kernel_Gp,n_restarts_optimizer=5,normalize_y=\"False\",optimizer='fmin_l_bfgs_b',random_state=None);\n",
    "model_TI_15 = gpr(kernel=kernel_Gp,n_restarts_optimizer=5,normalize_y=\"False\",optimizer='fmin_l_bfgs_b',random_state=None);"
   ]
  },
  {
   "cell_type": "code",
   "execution_count": 68,
   "metadata": {
    "scrolled": true
   },
   "outputs": [
    {
     "name": "stderr",
     "output_type": "stream",
     "text": [
      "C:\\Anaconda3\\lib\\site-packages\\sklearn\\gaussian_process\\gpr.py:457: UserWarning: fmin_l_bfgs_b terminated abnormally with the  state: {'grad': array([5.70901910e+01, 5.39116495e+01, 1.76667537e-03]), 'task': b'ABNORMAL_TERMINATION_IN_LNSRCH', 'funcalls': 60, 'nit': 13, 'warnflag': 2}\n",
      "  \" state: %s\" % convergence_dict)\n"
     ]
    },
    {
     "data": {
      "text/plain": [
       "GaussianProcessRegressor(alpha=1e-10, copy_X_train=True,\n",
       "             kernel=1**2 * RationalQuadratic(alpha=0.5, length_scale=3),\n",
       "             n_restarts_optimizer=5, normalize_y='False',\n",
       "             optimizer='fmin_l_bfgs_b', random_state=None)"
      ]
     },
     "execution_count": 68,
     "metadata": {},
     "output_type": "execute_result"
    }
   ],
   "source": [
    "#model1 跟US一模一樣的\n",
    "\n",
    "model_vel_03.fit(X=raw_X,y=raw_Y['vel_3_data.xlsx'])\n",
    "model_vel_15.fit(X=raw_X,y=raw_Y['vel_15_data.xlsx'])\n",
    "model_TI_03.fit(X=raw_X,y=raw_Y['TI_3_data.xlsx'])\n",
    "model_TI_15.fit(X=raw_X,y=raw_Y['TI_15_data.xlsx'])"
   ]
  },
  {
   "cell_type": "code",
   "execution_count": 13,
   "metadata": {
    "collapsed": true
   },
   "outputs": [],
   "source": [
    "f = open('model_vel_03', 'wb')\n",
    "pickle.dump(model_vel_03, f)\n",
    "f = open('model_vel_15', 'wb')\n",
    "pickle.dump(model_vel_15, f)\n",
    "f = open('model_TI_03', 'wb')\n",
    "pickle.dump(model_TI_03, f)\n",
    "f = open('model_TI_15', 'wb')\n",
    "pickle.dump(model_TI_15, f)"
   ]
  },
  {
   "cell_type": "code",
   "execution_count": 15,
   "metadata": {
    "collapsed": true
   },
   "outputs": [],
   "source": [
    "# #model2 不考慮距離因素\n",
    "# model2_vel_03 = gpr(kernel=kernel_Gp,n_restarts_optimizer=5,normalize_y=\"False\",optimizer='fmin_l_bfgs_b',random_state=None);\n",
    "# model2_vel_15 = gpr(kernel=kernel_Gp,n_restarts_optimizer=5,normalize_y=\"False\",optimizer='fmin_l_bfgs_b',random_state=None);\n",
    "# model2_TI_03 = gpr(kernel=kernel_Gp,n_restarts_optimizer=5,normalize_y=\"False\",optimizer='fmin_l_bfgs_b',random_state=None);\n",
    "# model2_TI_15 = gpr(kernel=kernel_Gp,n_restarts_optimizer=5,normalize_y=\"False\",optimizer='fmin_l_bfgs_b',random_state=None);\n",
    "\n",
    "# TrainX = np.load('data/X_data.npy')\n",
    "# pkl_file = open('data/Y_data.pkl','rb')\n",
    "# TrainY=pickle.load(pkl_file)\n",
    "# pkl_file.close()\n",
    "\n",
    "# print(TrainX.shape,TrainY['vel_3_data.xlsx'].shape)\n",
    "\n",
    "# model2_vel_03.fit(X=TrainX,y=TrainY['vel_3_data.xlsx'])\n",
    "# model2_vel_15.fit(X=TrainX,y=TrainY['vel_15_data.xlsx'])\n",
    "# model2_TI_03.fit(X=TrainX,y=TrainY['TI_3_data.xlsx'])\n",
    "# model2_TI_15.fit(X=TrainX,y=TrainY['TI_15_data.xlsx'])\n",
    "\n",
    "# model2_TI_15.kernel_\n",
    "\n",
    "# f = open('model2_vel_03', 'wb')\n",
    "# pickle.dump(model2_vel_03, f)\n",
    "# f = open('model2_vel_15', 'wb')\n",
    "# pickle.dump(model2_vel_15, f)\n",
    "# f = open('model2_TI_03', 'wb')\n",
    "# pickle.dump(model2_TI_03, f)\n",
    "# f = open('model2_TI_15', 'wb')\n",
    "# pickle.dump(model2_TI_15, f)"
   ]
  },
  {
   "cell_type": "code",
   "execution_count": 21,
   "metadata": {
    "collapsed": true
   },
   "outputs": [],
   "source": [
    "#Model建立好了，畫圖\n",
    "# 線圖（Line plot）\n",
    "# Python\n",
    "# 使用 matplotlib.pyplot 的 plot() 方法。\n",
    "# 散佈圖（Scatter plot）\n",
    "# Python\n",
    "# 使用 matplotlib.pyplot 的 scatter() 方法。"
   ]
  },
  {
   "cell_type": "code",
   "execution_count": 70,
   "metadata": {},
   "outputs": [
    {
     "name": "stdout",
     "output_type": "stream",
     "text": [
      "0.5488919 0.8774534 1.3299522182783168 0.005698308309022451\n"
     ]
    }
   ],
   "source": [
    "# #節點 d\n",
    "d  = np.array( [[ 1.2, 2 , 3, 4, 5, 6, 7, 8, 9, 10 ] ])\n",
    "\n",
    "#  np.concatenate((d.T, d.T), axis=1)\n",
    "\n",
    "Bp = .5488919\n",
    "Bd = .8774534\n",
    "H1 = .730\n",
    "H2 = .005\n",
    "c_e4 = H1 / Bp\n",
    "c_e5 = H2 / Bd\n",
    "\n",
    "print(Bp , Bd, c_e4, c_e5)\n",
    "\n",
    "\n",
    "# turbs = np.array( [ Bp , Bd, c_e4, c_e5 ] )\n",
    "\n",
    "# inputdata (10,5)\n",
    "X1 , X2, X3 ,X4  = Bp , Bd, c_e4, c_e5\n",
    "X = [ X1 , X2, X3 ,X4 ] \n",
    "def input_data_process(para = X, d  = np.array( [[ 1.2, 2 , 3, 4, 5, 6, 7, 8, 9, 10 ] ]) ):\n",
    "    input_data = d.transpose()\n",
    "    for i in para:\n",
    "        temp = [[i]]*10\n",
    "        input_data = np.concatenate((input_data, temp), axis=1)\n",
    "    return input_data\n",
    "#檢查過沒問題\n"
   ]
  },
  {
   "cell_type": "code",
   "execution_count": 15,
   "metadata": {
    "collapsed": true
   },
   "outputs": [],
   "source": [
    "# Experimental Data\n",
    "pkl_file = open('./data/exp_data','rb')\n",
    "exp = pickle.load(pkl_file)\n",
    "pkl_file.close()"
   ]
  },
  {
   "cell_type": "code",
   "execution_count": 22,
   "metadata": {
    "collapsed": true
   },
   "outputs": [],
   "source": [
    "import matplotlib.pyplot as plt\n",
    "\n",
    "f, axarr = plt.subplots(2, 2)\n",
    "\n",
    "%matplotlib inline\n",
    "\n",
    "#plot\n",
    "axarr[0, 0].plot(d.T, exp['vel_3_data'],'o')\n",
    "axarr[0, 0].plot(d.T, model_vel_03.predict(input_data_process()))\n",
    "axarr[0, 0].set_title('vel_03_')\n",
    " \n",
    "axarr[0, 1].plot(d.T, exp['vel_15_data'],'o')\n",
    "axarr[0, 1].plot(d.T, model_vel_15.predict(input_data_process()))\n",
    "axarr[0, 1].set_title('vel_15_data')\n",
    " \n",
    "axarr[1, 0].plot(d.T, exp['TI_3_data'],'o')\n",
    "axarr[1, 0].plot(d.T, model_TI_03.predict(input_data_process()))\n",
    "axarr[1, 0].set_title('TI_3_data')\n",
    " \n",
    "axarr[1, 1].plot(d.T, exp['TI_15_data'],'o')\n",
    "axarr[1, 1].plot(d.T, model_TI_15.predict(input_data_process()))\n",
    "axarr[1, 1].set_title('TI_15_data')\n",
    "\n",
    "f.tight_layout()\n",
    "\n",
    "f.savefig(str(X)+'.png')"
   ]
  },
  {
   "cell_type": "code",
   "execution_count": 23,
   "metadata": {
    "scrolled": false
   },
   "outputs": [
    {
     "data": {
      "image/png": "[encoded data removed]",
      "text/plain": [
       "<matplotlib.figure.Figure at 0x25b3838a780>"
      ]
     },
     "execution_count": 23,
     "metadata": {},
     "output_type": "execute_result"
    }
   ],
   "source": [
    "f"
   ]
  },
  {
   "cell_type": "code",
   "execution_count": 34,
   "metadata": {},
   "outputs": [
    {
     "data": {
      "text/plain": [
       "array([0.55204615, 0.54979896, 0.56552929, 0.58575401, 0.55204615,\n",
       "       0.45541693, 0.34530457, 0.22395626, 0.17676525, 0.08463042])"
      ]
     },
     "execution_count": 34,
     "metadata": {},
     "output_type": "execute_result"
    }
   ],
   "source": [
    "abs(exp['vel_3_data'] - model_vel_03.predict(input_data_process())[0])/exp['vel_3_data'][5]"
   ]
  },
  {
   "cell_type": "code",
   "execution_count": 30,
   "metadata": {
    "scrolled": true
   },
   "outputs": [
    {
     "data": {
      "text/plain": [
       "array([0.61109586, 0.6070981 , 0.6355064 , 0.67354143, 0.61109586,\n",
       "       0.45541693, 0.31105371, 0.18186229, 0.13824347, 0.06173858])"
      ]
     },
     "execution_count": 30,
     "metadata": {},
     "output_type": "execute_result"
    }
   ],
   "source": [
    "abs(exp['vel_3_data'] - model_vel_03.predict(input_data_process())[0])/exp['vel_3_data']"
   ]
  },
  {
   "cell_type": "code",
   "execution_count": 31,
   "metadata": {},
   "outputs": [
    {
     "data": {
      "text/plain": [
       "0.4286652630794873"
      ]
     },
     "execution_count": 31,
     "metadata": {},
     "output_type": "execute_result"
    }
   ],
   "source": [
    "sum(abs(exp['vel_3_data'] - model_vel_03.predict(input_data_process())[0])/exp['vel_3_data'])/10"
   ]
  },
  {
   "cell_type": "code",
   "execution_count": 29,
   "metadata": {
    "collapsed": true
   },
   "outputs": [],
   "source": [
    "#寫一個def 計算誤差和畫圖的 \n",
    "def MAEPandPlot(input_data = X,target = exp):    \n",
    "    #plot\n",
    "    f, axarr = plt.subplots(2, 2)\n",
    "    to_para = input_data\n",
    "    print(\"[X1,X2,X3,X4] = \"+str(input_data))\n",
    "    axarr[0, 0].plot(d.T, exp['vel_3_data'],'o',c = 'red')\n",
    "    axarr[0, 0].plot(d.T, model_vel_03.predict(input_data_process(para=to_para)),c = 'b')    \n",
    "    mape_vel_3 = sum(abs(exp['vel_3_data'] - model_vel_03.predict(input_data_process(para=to_para))[0])/exp['vel_3_data'])/10\n",
    "    axarr[0, 0].set_title('vel_3_data')\n",
    "    print (\"mape_vel_3：\"+str(mape_vel_3))\n",
    "    \n",
    "    axarr[0, 1].plot(d.T, exp['vel_15_data'],'o',c = 'red')\n",
    "    axarr[0, 1].plot(d.T, model_vel_15.predict(input_data_process(para=to_para)),c = 'b')   \n",
    "    mape_vel_15 = sum(abs(exp['vel_15_data'] - model_vel_15.predict(input_data_process(para=to_para))[0])/exp['vel_15_data'])/10\n",
    "    axarr[0, 1].set_title('vel_15_data')\n",
    "    print (\"mape_vel_15：\"+str(mape_vel_15))\n",
    "           \n",
    "    axarr[1, 0].plot(d.T, exp['TI_3_data'],'o',c = 'red')\n",
    "    axarr[1, 0].plot(d.T, model_TI_03.predict(input_data_process(para=to_para)),c = 'b')\n",
    "    mape_TI_3 = sum(abs(exp['TI_3_data'] - model_TI_03.predict(input_data_process(para=to_para))[0])/exp['TI_3_data'])/10\n",
    "    axarr[1, 0].set_title('TI_3_data')\n",
    "    print (\"mape_TI_3：\"+str(mape_TI_3))\n",
    "    \n",
    "    axarr[1, 1].plot(d.T, exp['TI_15_data'],'o',c = 'red')\n",
    "    axarr[1, 1].plot(d.T, model_TI_15.predict(input_data_process(para=to_para)),c = 'b')\n",
    "    mape_TI_15 = sum(abs(exp['TI_15_data'] - model_TI_15.predict(input_data_process(para=to_para))[0])/exp['TI_15_data'])/10\n",
    "    axarr[1, 1].set_title('TI_15_data' )\n",
    "    print ( \"mape_TI_15：\"+str(mape_TI_15))\n",
    "    \n",
    "    \n",
    "    f.tight_layout()\n",
    "    \n",
    "    #cal MAPE\n",
    "    \n",
    "    MAPE = (mape_vel_3+mape_vel_15+mape_TI_3+mape_TI_15)/4\n",
    "    \n",
    "    print(\"Total_MAPE：\"+ str(MAPE))\n",
    "    \n",
    "    plt.show\n",
    "    \n",
    "    "
   ]
  },
  {
   "cell_type": "code",
   "execution_count": 71,
   "metadata": {
    "collapsed": true
   },
   "outputs": [],
   "source": [
    "#寫一個def 計算誤差和畫圖的 \n",
    "def MAEPandPlot(input_data = X,target = exp):    \n",
    "    #plot\n",
    "    f, axarr = plt.subplots(2, 2)\n",
    "    to_para = input_data\n",
    "    print(\"[X1,X2,X3,X4] = \"+str(input_data))\n",
    "    axarr[0, 0].plot(d.T, exp['vel_3_data'],'o',c = 'red')\n",
    "    axarr[0, 0].plot(d.T, model_vel_03.predict(input_data_process(para=to_para)),c = 'b')    \n",
    "    mape_vel_3 = sum(abs(exp['vel_3_data'] - model_vel_03.predict(input_data_process(para=to_para))[:,0])/exp['vel_3_data'])/10\n",
    "    axarr[0, 0].set_title('vel_3_data')\n",
    "    print (\"mape_vel_3：\"+str(mape_vel_3))\n",
    "    \n",
    "    axarr[0, 1].plot(d.T, exp['vel_15_data'],'o',c = 'red')\n",
    "    axarr[0, 1].plot(d.T, model_vel_15.predict(input_data_process(para=to_para)),c = 'b')   \n",
    "    mape_vel_15 = sum(abs(exp['vel_15_data'] - model_vel_15.predict(input_data_process(para=to_para))[:,0])/exp['vel_15_data'])/10\n",
    "    axarr[0, 1].set_title('vel_15_data')\n",
    "    print (\"mape_vel_15：\"+str(mape_vel_15))\n",
    "           \n",
    "    axarr[1, 0].plot(d.T, exp['TI_3_data'],'o',c = 'red')\n",
    "    axarr[1, 0].plot(d.T, model_TI_03.predict(input_data_process(para=to_para)),c = 'b')\n",
    "    mape_TI_3 = sum(abs(exp['TI_3_data'] - model_TI_03.predict(input_data_process(para=to_para))[:,0])/exp['TI_3_data'])/10\n",
    "    axarr[1, 0].set_ylim([0, 0.5])\n",
    "    axarr[1, 0].set_title('TI_3_data')\n",
    "    print (\"mape_TI_3：\"+str(mape_TI_3))\n",
    "    \n",
    "    axarr[1, 1].plot(d.T, exp['TI_15_data'],'o',c = 'red')\n",
    "    axarr[1, 1].plot(d.T, model_TI_15.predict(input_data_process(para=to_para)),c = 'b')\n",
    "    mape_TI_15 = sum(abs(exp['TI_15_data'] - model_TI_15.predict(input_data_process(para=to_para))[:,0])/exp['TI_15_data'])/10\n",
    "    axarr[1, 1].set_title('TI_15_data' )\n",
    "    print ( \"mape_TI_15：\"+str(mape_TI_15))\n",
    "    \n",
    "    \n",
    "    f.tight_layout()\n",
    "    \n",
    "    #cal MAPE\n",
    "    \n",
    "    MAPE = (mape_vel_3+mape_vel_15+mape_TI_3+mape_TI_15)/4\n",
    "    \n",
    "    print(\"Total_MAPE：\"+ str(MAPE))\n",
    "    \n",
    "    plt.show"
   ]
  },
  {
   "cell_type": "code",
   "execution_count": 23,
   "metadata": {
    "collapsed": true
   },
   "outputs": [],
   "source": [
    "Bp = .5488919\n",
    "\n",
    "\n",
    "Bd = .8774534\n",
    "\n",
    "H1 = .730\n",
    "\n",
    "H2 = .005\n",
    "c_e4 = H1 / Bp\n",
    "c_e5 = H2 / Bd\n",
    "turbs = np.array( [ Bp , c_e4, Bd, c_e5 ] )"
   ]
  },
  {
   "cell_type": "code",
   "execution_count": 22,
   "metadata": {},
   "outputs": [
    {
     "data": {
      "text/plain": [
       "array([[  1.20000000e+00,   5.48891900e-01,   8.77453400e-01,\n",
       "          1.32995222e+00,   5.69830831e-03],\n",
       "       [  2.00000000e+00,   5.48891900e-01,   8.77453400e-01,\n",
       "          1.32995222e+00,   5.69830831e-03],\n",
       "       [  3.00000000e+00,   5.48891900e-01,   8.77453400e-01,\n",
       "          1.32995222e+00,   5.69830831e-03],\n",
       "       [  4.00000000e+00,   5.48891900e-01,   8.77453400e-01,\n",
       "          1.32995222e+00,   5.69830831e-03],\n",
       "       [  5.00000000e+00,   5.48891900e-01,   8.77453400e-01,\n",
       "          1.32995222e+00,   5.69830831e-03],\n",
       "       [  6.00000000e+00,   5.48891900e-01,   8.77453400e-01,\n",
       "          1.32995222e+00,   5.69830831e-03],\n",
       "       [  7.00000000e+00,   5.48891900e-01,   8.77453400e-01,\n",
       "          1.32995222e+00,   5.69830831e-03],\n",
       "       [  8.00000000e+00,   5.48891900e-01,   8.77453400e-01,\n",
       "          1.32995222e+00,   5.69830831e-03],\n",
       "       [  9.00000000e+00,   5.48891900e-01,   8.77453400e-01,\n",
       "          1.32995222e+00,   5.69830831e-03],\n",
       "       [  1.00000000e+01,   5.48891900e-01,   8.77453400e-01,\n",
       "          1.32995222e+00,   5.69830831e-03]])"
      ]
     },
     "execution_count": 22,
     "metadata": {},
     "output_type": "execute_result"
    }
   ],
   "source": [
    "input_data_process(turbs)"
   ]
  },
  {
   "cell_type": "code",
   "execution_count": 27,
   "metadata": {
    "scrolled": false
   },
   "outputs": [
    {
     "ename": "NameError",
     "evalue": "name 'turbs' is not defined",
     "output_type": "error",
     "traceback": [
      "\u001b[1;31m---------------------------------------------------------------------------\u001b[0m",
      "\u001b[1;31mNameError\u001b[0m                                 Traceback (most recent call last)",
      "\u001b[1;32m<ipython-input-27-1cf7f8867b38>\u001b[0m in \u001b[0;36m<module>\u001b[1;34m()\u001b[0m\n\u001b[1;32m----> 1\u001b[1;33m \u001b[0mMAEPandPlot\u001b[0m\u001b[1;33m(\u001b[0m\u001b[0minput_data\u001b[0m\u001b[1;33m=\u001b[0m\u001b[0mturbs\u001b[0m\u001b[1;33m)\u001b[0m\u001b[1;33m\u001b[0m\u001b[0m\n\u001b[0m",
      "\u001b[1;31mNameError\u001b[0m: name 'turbs' is not defined"
     ]
    }
   ],
   "source": [
    "MAEPandPlot(input_data=turbs)"
   ]
  },
  {
   "cell_type": "code",
   "execution_count": null,
   "metadata": {
    "collapsed": true
   },
   "outputs": [],
   "source": [
    "0.01\t4\t0.328534\t0.0518388"
   ]
  },
  {
   "cell_type": "code",
   "execution_count": 80,
   "metadata": {
    "collapsed": true
   },
   "outputs": [],
   "source": [
    "X = [0.01,4,0.33,0.05]\n"
   ]
  },
  {
   "cell_type": "code",
   "execution_count": 81,
   "metadata": {
    "scrolled": false
   },
   "outputs": [
    {
     "name": "stdout",
     "output_type": "stream",
     "text": [
      "[X1,X2,X3,X4] = [0.01, 4, 0.33, 0.05]\n",
      "mape_vel_3：0.16044568712559987\n",
      "mape_vel_15：0.21068691606165527\n",
      "mape_TI_3：0.29786374902560164\n",
      "mape_TI_15：0.18631244140173717\n",
      "Total_MAPE：0.2138271984036485\n"
     ]
    },
    {
     "data": {
      "image/png": "[encoded data removed]",
      "text/plain": [
       "<matplotlib.figure.Figure at 0x25b38a9da20>"
      ]
     },
     "metadata": {},
     "output_type": "display_data"
    }
   ],
   "source": [
    "MAEPandPlot(input_data=X)"
   ]
  },
  {
   "cell_type": "code",
   "execution_count": 74,
   "metadata": {
    "scrolled": false
   },
   "outputs": [
    {
     "name": "stdout",
     "output_type": "stream",
     "text": [
      "[X1,X2,X3,X4] = [1, 0.8097896297591158, 1, 0.01]\n",
      "mape_vel_3：0.3230404428013622\n",
      "mape_vel_15：0.1291144899996671\n",
      "mape_TI_3：0.3594018275800924\n",
      "mape_TI_15：0.10847712119784927\n",
      "Total_MAPE：0.23000847039474273\n"
     ]
    },
    {
     "data": {
      "image/png": "[encoded data removed]",
      "text/plain": [
       "<matplotlib.figure.Figure at 0x25b38596b70>"
      ]
     },
     "metadata": {},
     "output_type": "display_data"
    }
   ],
   "source": [
    "MAEPandPlot(input_data=[1, 0.8097896297591158, 1, 0.01])"
   ]
  },
  {
   "cell_type": "code",
   "execution_count": 30,
   "metadata": {
    "collapsed": true
   },
   "outputs": [],
   "source": [
    "d = np.arange(1,11,dtype=float)\n",
    "\n",
    "d[0] = 1.2\n",
    "\n",
    "d\n",
    "\n",
    "interval_value = 0.05\n",
    "\n",
    "X1 = np.arange(min(interval_value,0.1),1+interval_value,interval_value)\n",
    "X2 = np.arange(min(interval_value,0.1),4+interval_value,interval_value)\n",
    "X3 = np.arange(min(interval_value,0.1),1+interval_value,interval_value)\n",
    "X4 = np.arange(min(interval_value,0.1),4+interval_value,interval_value)\n",
    "X1[-1] = 1\n",
    "X2[-1] = 4\n",
    "X3[-1] = 1\n",
    "X4[-1] = 4    \n",
    "\n",
    "\n",
    "\n",
    "A,B,C,D,dis = np.meshgrid(X1,X2,X3,X4,d)\n",
    "\n",
    "\n",
    "\n",
    "dis = dis.reshape(A.size,1)\n",
    "A = A.reshape(A.size,1)\n",
    "\n",
    "B =B.reshape(A.size,1)\n",
    "\n",
    "C =C.reshape(A.size,1)\n",
    "\n",
    "D =D.reshape(A.size,1)\n",
    "\n",
    "K = np.hstack((dis,A,B,C,D))"
   ]
  },
  {
   "cell_type": "code",
   "execution_count": 53,
   "metadata": {
    "collapsed": true
   },
   "outputs": [],
   "source": [
    "np.save('data/Exhaustive_data',K)"
   ]
  },
  {
   "cell_type": "code",
   "execution_count": 54,
   "metadata": {
    "scrolled": true
   },
   "outputs": [
    {
     "data": {
      "text/plain": [
       "array([[  1.2 ,   0.05,   0.05,   0.05,   0.05],\n",
       "       [  2.  ,   0.05,   0.05,   0.05,   0.05],\n",
       "       [  3.  ,   0.05,   0.05,   0.05,   0.05],\n",
       "       ..., \n",
       "       [  8.  ,   1.  ,   4.  ,   1.  ,   4.  ],\n",
       "       [  9.  ,   1.  ,   4.  ,   1.  ,   4.  ],\n",
       "       [ 10.  ,   1.  ,   4.  ,   1.  ,   4.  ]])"
      ]
     },
     "execution_count": 54,
     "metadata": {},
     "output_type": "execute_result"
    }
   ],
   "source": [
    "K"
   ]
  },
  {
   "cell_type": "code",
   "execution_count": 47,
   "metadata": {
    "collapsed": true
   },
   "outputs": [],
   "source": [
    "VV = model_vel_03.predict(X=K[100000:200000])"
   ]
  },
  {
   "cell_type": "code",
   "execution_count": 51,
   "metadata": {},
   "outputs": [
    {
     "data": {
      "text/plain": [
       "array([ 0.8038051 ,  0.80710374,  0.80743519,  0.80723935,  0.80704367,\n",
       "        0.80686453,  0.80669796,  0.80654726,  0.80633243,  0.80634061])"
      ]
     },
     "execution_count": 51,
     "metadata": {},
     "output_type": "execute_result"
    }
   ],
   "source": [
    "V_10[0]"
   ]
  },
  {
   "cell_type": "code",
   "execution_count": 50,
   "metadata": {
    "collapsed": true
   },
   "outputs": [],
   "source": [
    "V_10 = VV.reshape(int(len(VV)/10),10)"
   ]
  },
  {
   "cell_type": "code",
   "execution_count": 45,
   "metadata": {},
   "outputs": [
    {
     "data": {
      "text/plain": [
       "100000"
      ]
     },
     "execution_count": 45,
     "metadata": {},
     "output_type": "execute_result"
    }
   ],
   "source": [
    "len(model_vel_03.predict(X=K[100000:200000]))"
   ]
  },
  {
   "cell_type": "code",
   "execution_count": 36,
   "metadata": {},
   "outputs": [
    {
     "data": {
      "text/plain": [
       "(25600000, 5)"
      ]
     },
     "execution_count": 36,
     "metadata": {},
     "output_type": "execute_result"
    }
   ],
   "source": [
    "K.shape"
   ]
  },
  {
   "cell_type": "code",
   "execution_count": 43,
   "metadata": {
    "scrolled": true
   },
   "outputs": [
    {
     "name": "stdout",
     "output_type": "stream",
     "text": [
      "[0, 100000, 200000, 300000, 400000, 500000, 600000, 700000, 800000, 900000, 1000000, 1100000, 1200000, 1300000, 1400000, 1500000, 1600000, 1700000, 1800000, 1900000, 2000000, 2100000, 2200000, 2300000, 2400000, 2500000, 2600000, 2700000, 2800000, 2900000, 3000000, 3100000, 3200000, 3300000, 3400000, 3500000, 3600000, 3700000, 3800000, 3900000, 4000000, 4100000, 4200000, 4300000, 4400000, 4500000, 4600000, 4700000, 4800000, 4900000, 5000000, 5100000, 5200000, 5300000, 5400000, 5500000, 5600000, 5700000, 5800000, 5900000, 6000000, 6100000, 6200000, 6300000, 6400000, 6500000, 6600000, 6700000, 6800000, 6900000, 7000000, 7100000, 7200000, 7300000, 7400000, 7500000, 7600000, 7700000, 7800000, 7900000, 8000000, 8100000, 8200000, 8300000, 8400000, 8500000, 8600000, 8700000, 8800000, 8900000, 9000000, 9100000, 9200000, 9300000, 9400000, 9500000, 9600000, 9700000, 9800000, 9900000, 10000000, 10100000, 10200000, 10300000, 10400000, 10500000, 10600000, 10700000, 10800000, 10900000, 11000000, 11100000, 11200000, 11300000, 11400000, 11500000, 11600000, 11700000, 11800000, 11900000, 12000000, 12100000, 12200000, 12300000, 12400000, 12500000, 12600000, 12700000, 12800000, 12900000, 13000000, 13100000, 13200000, 13300000, 13400000, 13500000, 13600000, 13700000, 13800000, 13900000, 14000000, 14100000, 14200000, 14300000, 14400000, 14500000, 14600000, 14700000, 14800000, 14900000, 15000000, 15100000, 15200000, 15300000, 15400000, 15500000, 15600000, 15700000, 15800000, 15900000, 16000000, 16100000, 16200000, 16300000, 16400000, 16500000, 16600000, 16700000, 16800000, 16900000, 17000000, 17100000, 17200000, 17300000, 17400000, 17500000, 17600000, 17700000, 17800000, 17900000, 18000000, 18100000, 18200000, 18300000, 18400000, 18500000, 18600000, 18700000, 18800000, 18900000, 19000000, 19100000, 19200000, 19300000, 19400000, 19500000, 19600000, 19700000, 19800000, 19900000, 20000000, 20100000, 20200000, 20300000, 20400000, 20500000, 20600000, 20700000, 20800000, 20900000, 21000000, 21100000, 21200000, 21300000, 21400000, 21500000, 21600000, 21700000, 21800000, 21900000, 22000000, 22100000, 22200000, 22300000, 22400000, 22500000, 22600000, 22700000, 22800000, 22900000, 23000000, 23100000, 23200000, 23300000, 23400000, 23500000, 23600000, 23700000, 23800000, 23900000, 24000000, 24100000, 24200000, 24300000, 24400000, 24500000, 24600000, 24700000, 24800000, 24900000, 25000000, 25100000, 25200000, 25300000, 25400000, 25500000]\n"
     ]
    }
   ],
   "source": [
    "print(list(range(0,len(K),100000)))"
   ]
  }
 ],
 "metadata": {
  "kernelspec": {
   "display_name": "Python 3",
   "language": "python",
   "name": "python3"
  },
  "language_info": {
   "codemirror_mode": {
    "name": "ipython",
    "version": 3
   },
   "file_extension": ".py",
   "mimetype": "text/x-python",
   "name": "python",
   "nbconvert_exporter": "python",
   "pygments_lexer": "ipython3",
   "version": "3.6.4"
  }
 },
 "nbformat": 4,
 "nbformat_minor": 2
}
