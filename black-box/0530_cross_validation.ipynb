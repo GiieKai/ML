{
 "cells": [
  {
   "cell_type": "code",
   "execution_count": 1,
   "metadata": {},
   "outputs": [
    {
     "data": {
      "text/plain": [
       "((150, 4), (150,))"
      ]
     },
     "execution_count": 1,
     "metadata": {},
     "output_type": "execute_result"
    }
   ],
   "source": [
    "import numpy as np\n",
    "import operator\n",
    "import random\n",
    "import pickle\n",
    "import pandas as pd\n",
    "import os\n",
    "import matplotlib.pyplot as plt\n",
    "%matplotlib inline\n",
    "\n",
    "import sklearn as sk\n",
    "\n",
    "from sklearn import datasets, linear_model\n",
    "from sklearn.metrics import mean_squared_error, r2_score ,mean_absolute_error\n",
    "#快速1次轉2次\n",
    "from sklearn import preprocessing \n",
    "from sklearn.preprocessing import PolynomialFeatures\n",
    "\n",
    "from sklearn.gaussian_process import GaussianProcessRegressor as gpr\n",
    "from sklearn.gaussian_process.kernels import RationalQuadratic,ConstantKernel\n",
    "\n"
   ]
  },
  {
   "cell_type": "code",
   "execution_count": 3,
   "metadata": {},
   "outputs": [],
   "source": [
    "#建立 複回歸模型\n",
    "\n",
    "#load training data\n",
    "raw_data = pd.read_excel('data/all_raw_data.xlsx')\n",
    "\n",
    "raw_data_Y = raw_data[[\"y_value_TI_3\",\"y_value_TI_15\",\"y_value_vel_3\",\"y_value_vel_15\"]]\n",
    "\n",
    "Y_list = [\"y_value_TI_3\",\"y_value_TI_15\",\"y_value_vel_3\",\"y_value_vel_15\"]\n",
    "\n",
    "X = np.load('data/X_data.npy')\n",
    "#81 case\n",
    "#(81, 4)\n",
    "\n",
    "#deg 代表我要將我的模型設幾次方\n",
    "#利用dic 存取模型\n",
    "def train_model(inX,deg = 2):\n",
    "    poly = PolynomialFeatures(deg,include_bias = False)\n",
    "    TrainX = poly.fit_transform(inX)\n",
    "    pre_fun = {}\n",
    "    mape_list = {}\n",
    "    R_list = {}\n",
    "    for index,y in enumerate (Y_list):\n",
    "        raw_Y = raw_data_Y[y]\n",
    "        for i in range(10):\n",
    "            model = linear_model.LinearRegression()\n",
    "            a = range(i,810,10)\n",
    "            Train_Y = raw_Y[list(a)]\n",
    "            pre_fun[y[8:]+\"_\"+str(i)] = model.fit(TrainX,Train_Y)\n",
    "            mape_list[y[8:]+\"_\"+str(i)] = mean_absolute_error(Train_Y,model.predict(TrainX))\n",
    "            \n",
    "    return pre_fun,mape_list\n",
    "\n",
    "Multiple_Regression_Model ,MAE = train_model(X)"
   ]
  },
  {
   "cell_type": "code",
   "execution_count": 9,
   "metadata": {},
   "outputs": [
    {
     "name": "stderr",
     "output_type": "stream",
     "text": [
      "C:\\Users\\409_KAI\\Anaconda3\\lib\\site-packages\\sklearn\\cross_validation.py:41: DeprecationWarning: This module was deprecated in version 0.18 in favor of the model_selection module into which all the refactored classes and functions are moved. Also note that the interface of the new CV iterators are different from that of this module. This module will be removed in 0.20.\n",
      "  \"This module will be removed in 0.20.\", DeprecationWarning)\n"
     ]
    }
   ],
   "source": [
    "from sklearn.cross_validation import cross_val_score\n",
    "from sklearn.cross_validation import train_test_split"
   ]
  },
  {
   "cell_type": "code",
   "execution_count": 10,
   "metadata": {},
   "outputs": [],
   "source": [
    "poly = PolynomialFeatures(2,include_bias = False)\n",
    "TrainX = poly.fit_transform(X)\n"
   ]
  },
  {
   "cell_type": "code",
   "execution_count": 12,
   "metadata": {},
   "outputs": [
    {
     "data": {
      "text/plain": [
       "array([0.1 , 0.1 , 0.1 , 0.1 , 0.01, 0.01, 0.01, 0.01, 0.01, 0.01, 0.01,\n",
       "       0.01, 0.01, 0.01])"
      ]
     },
     "execution_count": 12,
     "metadata": {},
     "output_type": "execute_result"
    }
   ],
   "source": [
    "TrainX[0]\n"
   ]
  },
  {
   "cell_type": "code",
   "execution_count": 13,
   "metadata": {},
   "outputs": [],
   "source": [
    "reg = linear_model.LinearRegression()"
   ]
  },
  {
   "cell_type": "code",
   "execution_count": 15,
   "metadata": {},
   "outputs": [],
   "source": [
    "a = range(0,810,10)"
   ]
  },
  {
   "cell_type": "code",
   "execution_count": 18,
   "metadata": {
    "scrolled": true
   },
   "outputs": [
    {
     "data": {
      "text/plain": [
       "0      0.085802\n",
       "10     0.085292\n",
       "20     0.084833\n",
       "30     0.108160\n",
       "40     0.101025\n",
       "50     0.097427\n",
       "60     0.251953\n",
       "70     0.228103\n",
       "80     0.199546\n",
       "90     0.094017\n",
       "100    0.079950\n",
       "110    0.077037\n",
       "120    0.190487\n",
       "130    0.085117\n",
       "140    0.079306\n",
       "150    0.049350\n",
       "160    0.100635\n",
       "170    0.082900\n",
       "180    0.177876\n",
       "190    0.077055\n",
       "200    0.073604\n",
       "210    0.104173\n",
       "220    0.080786\n",
       "230    0.074974\n",
       "240    0.019340\n",
       "250    0.089219\n",
       "260    0.076863\n",
       "270    0.115490\n",
       "280    0.115443\n",
       "290    0.115396\n",
       "         ...   \n",
       "510    0.033345\n",
       "520    0.112767\n",
       "530    0.109158\n",
       "540    0.143150\n",
       "550    0.143057\n",
       "560    0.142967\n",
       "570    0.148868\n",
       "580    0.148725\n",
       "590    0.148591\n",
       "600    0.462270\n",
       "610    0.399717\n",
       "620    0.332919\n",
       "630    0.140667\n",
       "640    0.140157\n",
       "650    0.138321\n",
       "660    0.144728\n",
       "670    0.142745\n",
       "680    0.141596\n",
       "690    0.097958\n",
       "700    0.157679\n",
       "710    0.146072\n",
       "720    0.136904\n",
       "730    0.136256\n",
       "740    0.134694\n",
       "750    0.140562\n",
       "760    0.137797\n",
       "770    0.136597\n",
       "780    0.043677\n",
       "790    0.142434\n",
       "800    0.138519\n",
       "Name: y_value_TI_3, Length: 81, dtype: float64"
      ]
     },
     "execution_count": 18,
     "metadata": {},
     "output_type": "execute_result"
    }
   ],
   "source": [
    "raw_data_Y['y_value_TI_3'][list(a)]"
   ]
  },
  {
   "cell_type": "code",
   "execution_count": 46,
   "metadata": {
    "scrolled": true
   },
   "outputs": [
    {
     "name": "stderr",
     "output_type": "stream",
     "text": [
      "C:\\Users\\409_KAI\\Anaconda3\\lib\\site-packages\\sklearn\\metrics\\scorer.py:100: DeprecationWarning: Scoring method mean_squared_error was renamed to neg_mean_squared_error in version 0.18 and will be removed in 0.20.\n",
      "  sample_weight=sample_weight)\n",
      "C:\\Users\\409_KAI\\Anaconda3\\lib\\site-packages\\sklearn\\metrics\\scorer.py:100: DeprecationWarning: Scoring method mean_squared_error was renamed to neg_mean_squared_error in version 0.18 and will be removed in 0.20.\n",
      "  sample_weight=sample_weight)\n",
      "C:\\Users\\409_KAI\\Anaconda3\\lib\\site-packages\\sklearn\\metrics\\scorer.py:100: DeprecationWarning: Scoring method mean_squared_error was renamed to neg_mean_squared_error in version 0.18 and will be removed in 0.20.\n",
      "  sample_weight=sample_weight)\n",
      "C:\\Users\\409_KAI\\Anaconda3\\lib\\site-packages\\sklearn\\metrics\\scorer.py:100: DeprecationWarning: Scoring method mean_squared_error was renamed to neg_mean_squared_error in version 0.18 and will be removed in 0.20.\n",
      "  sample_weight=sample_weight)\n",
      "C:\\Users\\409_KAI\\Anaconda3\\lib\\site-packages\\sklearn\\metrics\\scorer.py:100: DeprecationWarning: Scoring method mean_squared_error was renamed to neg_mean_squared_error in version 0.18 and will be removed in 0.20.\n",
      "  sample_weight=sample_weight)\n",
      "C:\\Users\\409_KAI\\Anaconda3\\lib\\site-packages\\sklearn\\metrics\\scorer.py:100: DeprecationWarning: Scoring method mean_squared_error was renamed to neg_mean_squared_error in version 0.18 and will be removed in 0.20.\n",
      "  sample_weight=sample_weight)\n",
      "C:\\Users\\409_KAI\\Anaconda3\\lib\\site-packages\\sklearn\\metrics\\scorer.py:100: DeprecationWarning: Scoring method mean_squared_error was renamed to neg_mean_squared_error in version 0.18 and will be removed in 0.20.\n",
      "  sample_weight=sample_weight)\n",
      "C:\\Users\\409_KAI\\Anaconda3\\lib\\site-packages\\sklearn\\metrics\\scorer.py:100: DeprecationWarning: Scoring method mean_squared_error was renamed to neg_mean_squared_error in version 0.18 and will be removed in 0.20.\n",
      "  sample_weight=sample_weight)\n",
      "C:\\Users\\409_KAI\\Anaconda3\\lib\\site-packages\\sklearn\\metrics\\scorer.py:100: DeprecationWarning: Scoring method mean_squared_error was renamed to neg_mean_squared_error in version 0.18 and will be removed in 0.20.\n",
      "  sample_weight=sample_weight)\n",
      "C:\\Users\\409_KAI\\Anaconda3\\lib\\site-packages\\sklearn\\metrics\\scorer.py:100: DeprecationWarning: Scoring method mean_squared_error was renamed to neg_mean_squared_error in version 0.18 and will be removed in 0.20.\n",
      "  sample_weight=sample_weight)\n",
      "C:\\Users\\409_KAI\\Anaconda3\\lib\\site-packages\\sklearn\\metrics\\scorer.py:100: DeprecationWarning: Scoring method mean_squared_error was renamed to neg_mean_squared_error in version 0.18 and will be removed in 0.20.\n",
      "  sample_weight=sample_weight)\n",
      "C:\\Users\\409_KAI\\Anaconda3\\lib\\site-packages\\sklearn\\metrics\\scorer.py:100: DeprecationWarning: Scoring method mean_squared_error was renamed to neg_mean_squared_error in version 0.18 and will be removed in 0.20.\n",
      "  sample_weight=sample_weight)\n",
      "C:\\Users\\409_KAI\\Anaconda3\\lib\\site-packages\\sklearn\\metrics\\scorer.py:100: DeprecationWarning: Scoring method mean_squared_error was renamed to neg_mean_squared_error in version 0.18 and will be removed in 0.20.\n",
      "  sample_weight=sample_weight)\n",
      "C:\\Users\\409_KAI\\Anaconda3\\lib\\site-packages\\sklearn\\metrics\\scorer.py:100: DeprecationWarning: Scoring method mean_squared_error was renamed to neg_mean_squared_error in version 0.18 and will be removed in 0.20.\n",
      "  sample_weight=sample_weight)\n",
      "C:\\Users\\409_KAI\\Anaconda3\\lib\\site-packages\\sklearn\\metrics\\scorer.py:100: DeprecationWarning: Scoring method mean_squared_error was renamed to neg_mean_squared_error in version 0.18 and will be removed in 0.20.\n",
      "  sample_weight=sample_weight)\n",
      "C:\\Users\\409_KAI\\Anaconda3\\lib\\site-packages\\sklearn\\metrics\\scorer.py:100: DeprecationWarning: Scoring method mean_squared_error was renamed to neg_mean_squared_error in version 0.18 and will be removed in 0.20.\n",
      "  sample_weight=sample_weight)\n",
      "C:\\Users\\409_KAI\\Anaconda3\\lib\\site-packages\\sklearn\\metrics\\scorer.py:100: DeprecationWarning: Scoring method mean_squared_error was renamed to neg_mean_squared_error in version 0.18 and will be removed in 0.20.\n",
      "  sample_weight=sample_weight)\n",
      "C:\\Users\\409_KAI\\Anaconda3\\lib\\site-packages\\sklearn\\metrics\\scorer.py:100: DeprecationWarning: Scoring method mean_squared_error was renamed to neg_mean_squared_error in version 0.18 and will be removed in 0.20.\n",
      "  sample_weight=sample_weight)\n",
      "C:\\Users\\409_KAI\\Anaconda3\\lib\\site-packages\\sklearn\\metrics\\scorer.py:100: DeprecationWarning: Scoring method mean_squared_error was renamed to neg_mean_squared_error in version 0.18 and will be removed in 0.20.\n",
      "  sample_weight=sample_weight)\n",
      "C:\\Users\\409_KAI\\Anaconda3\\lib\\site-packages\\sklearn\\metrics\\scorer.py:100: DeprecationWarning: Scoring method mean_squared_error was renamed to neg_mean_squared_error in version 0.18 and will be removed in 0.20.\n",
      "  sample_weight=sample_weight)\n",
      "C:\\Users\\409_KAI\\Anaconda3\\lib\\site-packages\\sklearn\\metrics\\scorer.py:100: DeprecationWarning: Scoring method mean_squared_error was renamed to neg_mean_squared_error in version 0.18 and will be removed in 0.20.\n",
      "  sample_weight=sample_weight)\n",
      "C:\\Users\\409_KAI\\Anaconda3\\lib\\site-packages\\sklearn\\metrics\\scorer.py:100: DeprecationWarning: Scoring method mean_squared_error was renamed to neg_mean_squared_error in version 0.18 and will be removed in 0.20.\n",
      "  sample_weight=sample_weight)\n",
      "C:\\Users\\409_KAI\\Anaconda3\\lib\\site-packages\\sklearn\\metrics\\scorer.py:100: DeprecationWarning: Scoring method mean_squared_error was renamed to neg_mean_squared_error in version 0.18 and will be removed in 0.20.\n",
      "  sample_weight=sample_weight)\n",
      "C:\\Users\\409_KAI\\Anaconda3\\lib\\site-packages\\sklearn\\metrics\\scorer.py:100: DeprecationWarning: Scoring method mean_squared_error was renamed to neg_mean_squared_error in version 0.18 and will be removed in 0.20.\n",
      "  sample_weight=sample_weight)\n",
      "C:\\Users\\409_KAI\\Anaconda3\\lib\\site-packages\\sklearn\\metrics\\scorer.py:100: DeprecationWarning: Scoring method mean_squared_error was renamed to neg_mean_squared_error in version 0.18 and will be removed in 0.20.\n",
      "  sample_weight=sample_weight)\n",
      "C:\\Users\\409_KAI\\Anaconda3\\lib\\site-packages\\sklearn\\metrics\\scorer.py:100: DeprecationWarning: Scoring method mean_squared_error was renamed to neg_mean_squared_error in version 0.18 and will be removed in 0.20.\n",
      "  sample_weight=sample_weight)\n",
      "C:\\Users\\409_KAI\\Anaconda3\\lib\\site-packages\\sklearn\\metrics\\scorer.py:100: DeprecationWarning: Scoring method mean_squared_error was renamed to neg_mean_squared_error in version 0.18 and will be removed in 0.20.\n",
      "  sample_weight=sample_weight)\n",
      "C:\\Users\\409_KAI\\Anaconda3\\lib\\site-packages\\sklearn\\metrics\\scorer.py:100: DeprecationWarning: Scoring method mean_squared_error was renamed to neg_mean_squared_error in version 0.18 and will be removed in 0.20.\n",
      "  sample_weight=sample_weight)\n",
      "C:\\Users\\409_KAI\\Anaconda3\\lib\\site-packages\\sklearn\\metrics\\scorer.py:100: DeprecationWarning: Scoring method mean_squared_error was renamed to neg_mean_squared_error in version 0.18 and will be removed in 0.20.\n",
      "  sample_weight=sample_weight)\n",
      "C:\\Users\\409_KAI\\Anaconda3\\lib\\site-packages\\sklearn\\metrics\\scorer.py:100: DeprecationWarning: Scoring method mean_squared_error was renamed to neg_mean_squared_error in version 0.18 and will be removed in 0.20.\n",
      "  sample_weight=sample_weight)\n",
      "C:\\Users\\409_KAI\\Anaconda3\\lib\\site-packages\\sklearn\\metrics\\scorer.py:100: DeprecationWarning: Scoring method mean_squared_error was renamed to neg_mean_squared_error in version 0.18 and will be removed in 0.20.\n",
      "  sample_weight=sample_weight)\n",
      "C:\\Users\\409_KAI\\Anaconda3\\lib\\site-packages\\sklearn\\metrics\\scorer.py:100: DeprecationWarning: Scoring method mean_squared_error was renamed to neg_mean_squared_error in version 0.18 and will be removed in 0.20.\n",
      "  sample_weight=sample_weight)\n",
      "C:\\Users\\409_KAI\\Anaconda3\\lib\\site-packages\\sklearn\\metrics\\scorer.py:100: DeprecationWarning: Scoring method mean_squared_error was renamed to neg_mean_squared_error in version 0.18 and will be removed in 0.20.\n",
      "  sample_weight=sample_weight)\n",
      "C:\\Users\\409_KAI\\Anaconda3\\lib\\site-packages\\sklearn\\metrics\\scorer.py:100: DeprecationWarning: Scoring method mean_squared_error was renamed to neg_mean_squared_error in version 0.18 and will be removed in 0.20.\n",
      "  sample_weight=sample_weight)\n",
      "C:\\Users\\409_KAI\\Anaconda3\\lib\\site-packages\\sklearn\\metrics\\scorer.py:100: DeprecationWarning: Scoring method mean_squared_error was renamed to neg_mean_squared_error in version 0.18 and will be removed in 0.20.\n",
      "  sample_weight=sample_weight)\n",
      "C:\\Users\\409_KAI\\Anaconda3\\lib\\site-packages\\sklearn\\metrics\\scorer.py:100: DeprecationWarning: Scoring method mean_squared_error was renamed to neg_mean_squared_error in version 0.18 and will be removed in 0.20.\n",
      "  sample_weight=sample_weight)\n",
      "C:\\Users\\409_KAI\\Anaconda3\\lib\\site-packages\\sklearn\\metrics\\scorer.py:100: DeprecationWarning: Scoring method mean_squared_error was renamed to neg_mean_squared_error in version 0.18 and will be removed in 0.20.\n",
      "  sample_weight=sample_weight)\n",
      "C:\\Users\\409_KAI\\Anaconda3\\lib\\site-packages\\sklearn\\metrics\\scorer.py:100: DeprecationWarning: Scoring method mean_squared_error was renamed to neg_mean_squared_error in version 0.18 and will be removed in 0.20.\n",
      "  sample_weight=sample_weight)\n",
      "C:\\Users\\409_KAI\\Anaconda3\\lib\\site-packages\\sklearn\\metrics\\scorer.py:100: DeprecationWarning: Scoring method mean_squared_error was renamed to neg_mean_squared_error in version 0.18 and will be removed in 0.20.\n",
      "  sample_weight=sample_weight)\n",
      "C:\\Users\\409_KAI\\Anaconda3\\lib\\site-packages\\sklearn\\metrics\\scorer.py:100: DeprecationWarning: Scoring method mean_squared_error was renamed to neg_mean_squared_error in version 0.18 and will be removed in 0.20.\n",
      "  sample_weight=sample_weight)\n",
      "C:\\Users\\409_KAI\\Anaconda3\\lib\\site-packages\\sklearn\\metrics\\scorer.py:100: DeprecationWarning: Scoring method mean_squared_error was renamed to neg_mean_squared_error in version 0.18 and will be removed in 0.20.\n",
      "  sample_weight=sample_weight)\n",
      "C:\\Users\\409_KAI\\Anaconda3\\lib\\site-packages\\sklearn\\metrics\\scorer.py:100: DeprecationWarning: Scoring method mean_squared_error was renamed to neg_mean_squared_error in version 0.18 and will be removed in 0.20.\n",
      "  sample_weight=sample_weight)\n",
      "C:\\Users\\409_KAI\\Anaconda3\\lib\\site-packages\\sklearn\\metrics\\scorer.py:100: DeprecationWarning: Scoring method mean_squared_error was renamed to neg_mean_squared_error in version 0.18 and will be removed in 0.20.\n",
      "  sample_weight=sample_weight)\n",
      "C:\\Users\\409_KAI\\Anaconda3\\lib\\site-packages\\sklearn\\metrics\\scorer.py:100: DeprecationWarning: Scoring method mean_squared_error was renamed to neg_mean_squared_error in version 0.18 and will be removed in 0.20.\n",
      "  sample_weight=sample_weight)\n",
      "C:\\Users\\409_KAI\\Anaconda3\\lib\\site-packages\\sklearn\\metrics\\scorer.py:100: DeprecationWarning: Scoring method mean_squared_error was renamed to neg_mean_squared_error in version 0.18 and will be removed in 0.20.\n",
      "  sample_weight=sample_weight)\n",
      "C:\\Users\\409_KAI\\Anaconda3\\lib\\site-packages\\sklearn\\metrics\\scorer.py:100: DeprecationWarning: Scoring method mean_squared_error was renamed to neg_mean_squared_error in version 0.18 and will be removed in 0.20.\n",
      "  sample_weight=sample_weight)\n",
      "C:\\Users\\409_KAI\\Anaconda3\\lib\\site-packages\\sklearn\\metrics\\scorer.py:100: DeprecationWarning: Scoring method mean_squared_error was renamed to neg_mean_squared_error in version 0.18 and will be removed in 0.20.\n",
      "  sample_weight=sample_weight)\n",
      "C:\\Users\\409_KAI\\Anaconda3\\lib\\site-packages\\sklearn\\metrics\\scorer.py:100: DeprecationWarning: Scoring method mean_squared_error was renamed to neg_mean_squared_error in version 0.18 and will be removed in 0.20.\n",
      "  sample_weight=sample_weight)\n",
      "C:\\Users\\409_KAI\\Anaconda3\\lib\\site-packages\\sklearn\\metrics\\scorer.py:100: DeprecationWarning: Scoring method mean_squared_error was renamed to neg_mean_squared_error in version 0.18 and will be removed in 0.20.\n",
      "  sample_weight=sample_weight)\n",
      "C:\\Users\\409_KAI\\Anaconda3\\lib\\site-packages\\sklearn\\metrics\\scorer.py:100: DeprecationWarning: Scoring method mean_squared_error was renamed to neg_mean_squared_error in version 0.18 and will be removed in 0.20.\n",
      "  sample_weight=sample_weight)\n",
      "C:\\Users\\409_KAI\\Anaconda3\\lib\\site-packages\\sklearn\\metrics\\scorer.py:100: DeprecationWarning: Scoring method mean_squared_error was renamed to neg_mean_squared_error in version 0.18 and will be removed in 0.20.\n",
      "  sample_weight=sample_weight)\n",
      "C:\\Users\\409_KAI\\Anaconda3\\lib\\site-packages\\sklearn\\metrics\\scorer.py:100: DeprecationWarning: Scoring method mean_squared_error was renamed to neg_mean_squared_error in version 0.18 and will be removed in 0.20.\n",
      "  sample_weight=sample_weight)\n",
      "C:\\Users\\409_KAI\\Anaconda3\\lib\\site-packages\\sklearn\\metrics\\scorer.py:100: DeprecationWarning: Scoring method mean_squared_error was renamed to neg_mean_squared_error in version 0.18 and will be removed in 0.20.\n",
      "  sample_weight=sample_weight)\n",
      "C:\\Users\\409_KAI\\Anaconda3\\lib\\site-packages\\sklearn\\metrics\\scorer.py:100: DeprecationWarning: Scoring method mean_squared_error was renamed to neg_mean_squared_error in version 0.18 and will be removed in 0.20.\n",
      "  sample_weight=sample_weight)\n",
      "C:\\Users\\409_KAI\\Anaconda3\\lib\\site-packages\\sklearn\\metrics\\scorer.py:100: DeprecationWarning: Scoring method mean_squared_error was renamed to neg_mean_squared_error in version 0.18 and will be removed in 0.20.\n",
      "  sample_weight=sample_weight)\n",
      "C:\\Users\\409_KAI\\Anaconda3\\lib\\site-packages\\sklearn\\metrics\\scorer.py:100: DeprecationWarning: Scoring method mean_squared_error was renamed to neg_mean_squared_error in version 0.18 and will be removed in 0.20.\n",
      "  sample_weight=sample_weight)\n",
      "C:\\Users\\409_KAI\\Anaconda3\\lib\\site-packages\\sklearn\\metrics\\scorer.py:100: DeprecationWarning: Scoring method mean_squared_error was renamed to neg_mean_squared_error in version 0.18 and will be removed in 0.20.\n",
      "  sample_weight=sample_weight)\n",
      "C:\\Users\\409_KAI\\Anaconda3\\lib\\site-packages\\sklearn\\metrics\\scorer.py:100: DeprecationWarning: Scoring method mean_squared_error was renamed to neg_mean_squared_error in version 0.18 and will be removed in 0.20.\n",
      "  sample_weight=sample_weight)\n",
      "C:\\Users\\409_KAI\\Anaconda3\\lib\\site-packages\\sklearn\\metrics\\scorer.py:100: DeprecationWarning: Scoring method mean_squared_error was renamed to neg_mean_squared_error in version 0.18 and will be removed in 0.20.\n",
      "  sample_weight=sample_weight)\n",
      "C:\\Users\\409_KAI\\Anaconda3\\lib\\site-packages\\sklearn\\metrics\\scorer.py:100: DeprecationWarning: Scoring method mean_squared_error was renamed to neg_mean_squared_error in version 0.18 and will be removed in 0.20.\n",
      "  sample_weight=sample_weight)\n",
      "C:\\Users\\409_KAI\\Anaconda3\\lib\\site-packages\\sklearn\\metrics\\scorer.py:100: DeprecationWarning: Scoring method mean_squared_error was renamed to neg_mean_squared_error in version 0.18 and will be removed in 0.20.\n",
      "  sample_weight=sample_weight)\n",
      "C:\\Users\\409_KAI\\Anaconda3\\lib\\site-packages\\sklearn\\metrics\\scorer.py:100: DeprecationWarning: Scoring method mean_squared_error was renamed to neg_mean_squared_error in version 0.18 and will be removed in 0.20.\n",
      "  sample_weight=sample_weight)\n",
      "C:\\Users\\409_KAI\\Anaconda3\\lib\\site-packages\\sklearn\\metrics\\scorer.py:100: DeprecationWarning: Scoring method mean_squared_error was renamed to neg_mean_squared_error in version 0.18 and will be removed in 0.20.\n",
      "  sample_weight=sample_weight)\n",
      "C:\\Users\\409_KAI\\Anaconda3\\lib\\site-packages\\sklearn\\metrics\\scorer.py:100: DeprecationWarning: Scoring method mean_squared_error was renamed to neg_mean_squared_error in version 0.18 and will be removed in 0.20.\n",
      "  sample_weight=sample_weight)\n",
      "C:\\Users\\409_KAI\\Anaconda3\\lib\\site-packages\\sklearn\\metrics\\scorer.py:100: DeprecationWarning: Scoring method mean_squared_error was renamed to neg_mean_squared_error in version 0.18 and will be removed in 0.20.\n",
      "  sample_weight=sample_weight)\n",
      "C:\\Users\\409_KAI\\Anaconda3\\lib\\site-packages\\sklearn\\metrics\\scorer.py:100: DeprecationWarning: Scoring method mean_squared_error was renamed to neg_mean_squared_error in version 0.18 and will be removed in 0.20.\n",
      "  sample_weight=sample_weight)\n",
      "C:\\Users\\409_KAI\\Anaconda3\\lib\\site-packages\\sklearn\\metrics\\scorer.py:100: DeprecationWarning: Scoring method mean_squared_error was renamed to neg_mean_squared_error in version 0.18 and will be removed in 0.20.\n",
      "  sample_weight=sample_weight)\n",
      "C:\\Users\\409_KAI\\Anaconda3\\lib\\site-packages\\sklearn\\metrics\\scorer.py:100: DeprecationWarning: Scoring method mean_squared_error was renamed to neg_mean_squared_error in version 0.18 and will be removed in 0.20.\n",
      "  sample_weight=sample_weight)\n",
      "C:\\Users\\409_KAI\\Anaconda3\\lib\\site-packages\\sklearn\\metrics\\scorer.py:100: DeprecationWarning: Scoring method mean_squared_error was renamed to neg_mean_squared_error in version 0.18 and will be removed in 0.20.\n",
      "  sample_weight=sample_weight)\n",
      "C:\\Users\\409_KAI\\Anaconda3\\lib\\site-packages\\sklearn\\metrics\\scorer.py:100: DeprecationWarning: Scoring method mean_squared_error was renamed to neg_mean_squared_error in version 0.18 and will be removed in 0.20.\n",
      "  sample_weight=sample_weight)\n",
      "C:\\Users\\409_KAI\\Anaconda3\\lib\\site-packages\\sklearn\\metrics\\scorer.py:100: DeprecationWarning: Scoring method mean_squared_error was renamed to neg_mean_squared_error in version 0.18 and will be removed in 0.20.\n",
      "  sample_weight=sample_weight)\n",
      "C:\\Users\\409_KAI\\Anaconda3\\lib\\site-packages\\sklearn\\metrics\\scorer.py:100: DeprecationWarning: Scoring method mean_squared_error was renamed to neg_mean_squared_error in version 0.18 and will be removed in 0.20.\n",
      "  sample_weight=sample_weight)\n",
      "C:\\Users\\409_KAI\\Anaconda3\\lib\\site-packages\\sklearn\\metrics\\scorer.py:100: DeprecationWarning: Scoring method mean_squared_error was renamed to neg_mean_squared_error in version 0.18 and will be removed in 0.20.\n",
      "  sample_weight=sample_weight)\n",
      "C:\\Users\\409_KAI\\Anaconda3\\lib\\site-packages\\sklearn\\metrics\\scorer.py:100: DeprecationWarning: Scoring method mean_squared_error was renamed to neg_mean_squared_error in version 0.18 and will be removed in 0.20.\n",
      "  sample_weight=sample_weight)\n",
      "C:\\Users\\409_KAI\\Anaconda3\\lib\\site-packages\\sklearn\\metrics\\scorer.py:100: DeprecationWarning: Scoring method mean_squared_error was renamed to neg_mean_squared_error in version 0.18 and will be removed in 0.20.\n",
      "  sample_weight=sample_weight)\n",
      "C:\\Users\\409_KAI\\Anaconda3\\lib\\site-packages\\sklearn\\metrics\\scorer.py:100: DeprecationWarning: Scoring method mean_squared_error was renamed to neg_mean_squared_error in version 0.18 and will be removed in 0.20.\n",
      "  sample_weight=sample_weight)\n",
      "C:\\Users\\409_KAI\\Anaconda3\\lib\\site-packages\\sklearn\\metrics\\scorer.py:100: DeprecationWarning: Scoring method mean_squared_error was renamed to neg_mean_squared_error in version 0.18 and will be removed in 0.20.\n",
      "  sample_weight=sample_weight)\n",
      "C:\\Users\\409_KAI\\Anaconda3\\lib\\site-packages\\sklearn\\metrics\\scorer.py:100: DeprecationWarning: Scoring method mean_squared_error was renamed to neg_mean_squared_error in version 0.18 and will be removed in 0.20.\n",
      "  sample_weight=sample_weight)\n",
      "C:\\Users\\409_KAI\\Anaconda3\\lib\\site-packages\\sklearn\\metrics\\scorer.py:100: DeprecationWarning: Scoring method mean_squared_error was renamed to neg_mean_squared_error in version 0.18 and will be removed in 0.20.\n",
      "  sample_weight=sample_weight)\n",
      "C:\\Users\\409_KAI\\Anaconda3\\lib\\site-packages\\sklearn\\metrics\\scorer.py:100: DeprecationWarning: Scoring method mean_squared_error was renamed to neg_mean_squared_error in version 0.18 and will be removed in 0.20.\n",
      "  sample_weight=sample_weight)\n",
      "C:\\Users\\409_KAI\\Anaconda3\\lib\\site-packages\\sklearn\\metrics\\scorer.py:100: DeprecationWarning: Scoring method mean_squared_error was renamed to neg_mean_squared_error in version 0.18 and will be removed in 0.20.\n",
      "  sample_weight=sample_weight)\n"
     ]
    }
   ],
   "source": [
    "scores = cross_val_score(reg,TrainX,raw_data_Y['y_value_TI_3'][list(a)],cv=81,scoring=\"mean_squared_error\")"
   ]
  },
  {
   "cell_type": "code",
   "execution_count": 61,
   "metadata": {},
   "outputs": [],
   "source": [
    "k_range = range(2,81)\n",
    "k_scores = []\n",
    "for k_number in k_range:\n",
    "    reg = linear_model.LinearRegression()\n",
    "    scores = -(cross_val_score(reg,TrainX,raw_data_Y['y_value_TI_3'][list(a)],cv=k_number,scoring=\"r2\"))\n",
    "    k_scores.append(scores.mean())"
   ]
  },
  {
   "cell_type": "code",
   "execution_count": 68,
   "metadata": {},
   "outputs": [],
   "source": [
    "k_range = range(2,81)\n",
    "k_scores = []\n",
    "for k_number in k_range:\n",
    "    reg = linear_model.LinearRegression()\n",
    "    scores = -(cross_val_score(reg,X,raw_data_Y['y_value_TI_3'][list(a)],cv=k_number,scoring=\"r2\"))\n",
    "    k_scores.append(scores.mean())"
   ]
  },
  {
   "cell_type": "code",
   "execution_count": 73,
   "metadata": {},
   "outputs": [],
   "source": [
    "reg = linear_model.LinearRegression()"
   ]
  },
  {
   "cell_type": "code",
   "execution_count": 75,
   "metadata": {},
   "outputs": [
    {
     "data": {
      "text/plain": [
       "LinearRegression(copy_X=True, fit_intercept=True, n_jobs=1, normalize=False)"
      ]
     },
     "execution_count": 75,
     "metadata": {},
     "output_type": "execute_result"
    }
   ],
   "source": [
    "reg.fit(X=X,y= raw_data_Y['y_value_TI_3'][list(a)])"
   ]
  },
  {
   "cell_type": "code",
   "execution_count": 86,
   "metadata": {},
   "outputs": [
    {
     "data": {
      "text/plain": [
       "array([0.11227555])"
      ]
     },
     "execution_count": 86,
     "metadata": {},
     "output_type": "execute_result"
    }
   ],
   "source": [
    "reg.predict([[0,0,0,0]])"
   ]
  },
  {
   "cell_type": "code",
   "execution_count": 81,
   "metadata": {},
   "outputs": [
    {
     "name": "stdout",
     "output_type": "stream",
     "text": [
      "0.37542300819409524\n"
     ]
    }
   ],
   "source": [
    "print(reg.score(X=X,y= raw_data_Y['y_value_TI_3'][list(a)]))"
   ]
  },
  {
   "cell_type": "code",
   "execution_count": 69,
   "metadata": {
    "scrolled": false
   },
   "outputs": [
    {
     "data": {
      "image/png": "[encoded data removed]",
      "text/plain": [
       "<matplotlib.figure.Figure at 0x23be4d5d898>"
      ]
     },
     "metadata": {},
     "output_type": "display_data"
    }
   ],
   "source": [
    "plt.plot(k_range,k_scores)\n",
    "plt.xlabel('Value of K for KNN')\n",
    "plt.ylabel('Cross-Validated Accuracy')\n",
    "plt.show()"
   ]
  },
  {
   "cell_type": "code",
   "execution_count": 62,
   "metadata": {
    "scrolled": false
   },
   "outputs": [
    {
     "data": {
      "image/png": "[encoded data removed]",
      "text/plain": [
       "<matplotlib.figure.Figure at 0x23be4ca7208>"
      ]
     },
     "metadata": {},
     "output_type": "display_data"
    }
   ],
   "source": [
    "plt.plot(k_range,k_scores)\n",
    "plt.xlabel('Value of K for KNN')\n",
    "plt.ylabel('Cross-Validated Accuracy')\n",
    "plt.show()"
   ]
  },
  {
   "cell_type": "code",
   "execution_count": 58,
   "metadata": {
    "scrolled": true
   },
   "outputs": [
    {
     "data": {
      "image/png": "[encoded data removed]",
      "text/plain": [
       "<matplotlib.figure.Figure at 0x23be4b5c320>"
      ]
     },
     "metadata": {},
     "output_type": "display_data"
    }
   ],
   "source": [
    "plt.plot(k_range,k_scores)\n",
    "plt.xlabel('Value of K for KNN')\n",
    "plt.ylabel('Cross-Validated Accuracy')\n",
    "plt.show()"
   ]
  },
  {
   "cell_type": "code",
   "execution_count": 60,
   "metadata": {},
   "outputs": [
    {
     "data": {
      "text/plain": [
       "0.0020324113857452222"
      ]
     },
     "execution_count": 60,
     "metadata": {},
     "output_type": "execute_result"
    }
   ],
   "source": [
    "min(k_scores)"
   ]
  },
  {
   "cell_type": "code",
   "execution_count": 47,
   "metadata": {
    "scrolled": true
   },
   "outputs": [
    {
     "data": {
      "text/plain": [
       "array([-4.47863287e-04, -7.29562432e-05, -2.80623880e-03, -2.75310786e-03,\n",
       "       -1.33831249e-03, -9.95205462e-05, -1.09094099e-04, -1.55803646e-05,\n",
       "       -1.71024631e-04, -2.43796711e-05, -2.91114864e-06, -5.72808806e-04,\n",
       "       -1.65369569e-02, -1.86858578e-04, -6.70037647e-04, -6.46148493e-03,\n",
       "       -1.76979527e-04, -5.00116045e-04, -2.49185932e-03, -6.37604148e-03,\n",
       "       -6.48653260e-03, -1.60456083e-03, -2.79427842e-05, -1.96882281e-05,\n",
       "       -1.42749329e-03, -1.72833757e-03, -8.61191607e-04, -1.18031332e-04,\n",
       "       -7.21691143e-05, -1.63234726e-03, -5.58432238e-03, -3.58838469e-03,\n",
       "       -1.46570387e-03, -1.85905434e-02, -4.08681480e-03, -4.48530886e-05,\n",
       "       -1.63828181e-04, -2.94540571e-04, -1.12955404e-03, -2.85825066e-04,\n",
       "       -1.93105691e-04, -5.14394335e-04, -6.92773860e-03, -7.75108307e-04,\n",
       "       -1.31451332e-03, -1.53790597e-03, -2.04818813e-03, -2.05023139e-03,\n",
       "       -1.55484468e-03, -3.58919855e-04, -2.47385802e-04, -1.73480836e-03,\n",
       "       -1.23054193e-03, -6.22603423e-04, -1.05965121e-04, -6.32879842e-06,\n",
       "       -8.17854026e-04, -8.30851302e-03, -6.38152830e-03, -4.65804440e-03,\n",
       "       -2.93002231e-02, -5.74894805e-03, -2.28425142e-05, -1.07256751e-03,\n",
       "       -7.97084995e-04, -1.39414861e-03, -4.54770577e-04, -1.27720882e-04,\n",
       "       -1.85453459e-04, -1.11670496e-02, -1.79796833e-03, -3.86244126e-03,\n",
       "       -2.93132450e-05, -4.57699803e-04, -9.54040765e-04, -3.44740354e-03,\n",
       "       -9.89186205e-04, -4.77261541e-04, -4.17707053e-03, -1.37369540e-03,\n",
       "       -3.18226604e-04])"
      ]
     },
     "execution_count": 47,
     "metadata": {},
     "output_type": "execute_result"
    }
   ],
   "source": [
    "scores"
   ]
  },
  {
   "cell_type": "code",
   "execution_count": 8,
   "metadata": {
    "collapsed": true
   },
   "outputs": [
    {
     "data": {
      "text/plain": [
       "0      0.085802\n",
       "1      0.077405\n",
       "2      0.071819\n",
       "3      0.068473\n",
       "4      0.066201\n",
       "5      0.064567\n",
       "6      0.063361\n",
       "7      0.062461\n",
       "8      0.061787\n",
       "9      0.061281\n",
       "10     0.085292\n",
       "11     0.077023\n",
       "12     0.071519\n",
       "13     0.068221\n",
       "14     0.065982\n",
       "15     0.064375\n",
       "16     0.063192\n",
       "17     0.062312\n",
       "18     0.061656\n",
       "19     0.061165\n",
       "20     0.084833\n",
       "21     0.076680\n",
       "22     0.071249\n",
       "23     0.067993\n",
       "24     0.065785\n",
       "25     0.064203\n",
       "26     0.063041\n",
       "27     0.062179\n",
       "28     0.061538\n",
       "29     0.061061\n",
       "         ...   \n",
       "780    0.043677\n",
       "781    0.030099\n",
       "782    0.022817\n",
       "783    0.018916\n",
       "784    0.016435\n",
       "785    0.014689\n",
       "786    0.013378\n",
       "787    0.012350\n",
       "788    0.011526\n",
       "789    0.010848\n",
       "790    0.142434\n",
       "791    0.132994\n",
       "792    0.128666\n",
       "793    0.127012\n",
       "794    0.126301\n",
       "795    0.125972\n",
       "796    0.125808\n",
       "797    0.125718\n",
       "798    0.125662\n",
       "799    0.125623\n",
       "800    0.138519\n",
       "801    0.134355\n",
       "802    0.132731\n",
       "803    0.132216\n",
       "804    0.132035\n",
       "805    0.131966\n",
       "806    0.131935\n",
       "807    0.131918\n",
       "808    0.131906\n",
       "809    0.131897\n",
       "Name: y_value_TI_3, Length: 810, dtype: float64"
      ]
     },
     "execution_count": 8,
     "metadata": {},
     "output_type": "execute_result"
    }
   ],
   "source": [
    "raw_data_Y['y_value_TI_3']"
   ]
  },
  {
   "cell_type": "code",
   "execution_count": 7,
   "metadata": {
    "scrolled": true
   },
   "outputs": [
    {
     "data": {
      "text/plain": [
       "['y_value_TI_3', 'y_value_TI_15', 'y_value_vel_3', 'y_value_vel_15']"
      ]
     },
     "execution_count": 7,
     "metadata": {},
     "output_type": "execute_result"
    }
   ],
   "source": [
    "Y_list"
   ]
  },
  {
   "cell_type": "code",
   "execution_count": 4,
   "metadata": {
    "scrolled": true
   },
   "outputs": [
    {
     "data": {
      "text/plain": [
       "['sepal length (cm)',\n",
       " 'sepal width (cm)',\n",
       " 'petal length (cm)',\n",
       " 'petal width (cm)']"
      ]
     },
     "execution_count": 4,
     "metadata": {},
     "output_type": "execute_result"
    }
   ],
   "source": [
    "iris.feature_names"
   ]
  },
  {
   "cell_type": "code",
   "execution_count": 5,
   "metadata": {
    "scrolled": true
   },
   "outputs": [
    {
     "data": {
      "text/plain": [
       "array([0, 0, 0, 0, 0, 0, 0, 0, 0, 0, 0, 0, 0, 0, 0, 0, 0, 0, 0, 0, 0, 0,\n",
       "       0, 0, 0, 0, 0, 0, 0, 0, 0, 0, 0, 0, 0, 0, 0, 0, 0, 0, 0, 0, 0, 0,\n",
       "       0, 0, 0, 0, 0, 0, 1, 1, 1, 1, 1, 1, 1, 1, 1, 1, 1, 1, 1, 1, 1, 1,\n",
       "       1, 1, 1, 1, 1, 1, 1, 1, 1, 1, 1, 1, 1, 1, 1, 1, 1, 1, 1, 1, 1, 1,\n",
       "       1, 1, 1, 1, 1, 1, 1, 1, 1, 1, 1, 1, 2, 2, 2, 2, 2, 2, 2, 2, 2, 2,\n",
       "       2, 2, 2, 2, 2, 2, 2, 2, 2, 2, 2, 2, 2, 2, 2, 2, 2, 2, 2, 2, 2, 2,\n",
       "       2, 2, 2, 2, 2, 2, 2, 2, 2, 2, 2, 2, 2, 2, 2, 2, 2, 2])"
      ]
     },
     "execution_count": 5,
     "metadata": {},
     "output_type": "execute_result"
    }
   ],
   "source": [
    "iris.target"
   ]
  },
  {
   "cell_type": "code",
   "execution_count": 17,
   "metadata": {},
   "outputs": [],
   "source": [
    "X_train, X_test, y_train, y_test = train_test_split(\n",
    "    iris.data, iris.target, test_size=1/10, random_state=0)\n",
    "#另外一個參數 random_state 設為 0 用來確保每次切分資料的結果都相同"
   ]
  },
  {
   "cell_type": "code",
   "execution_count": 19,
   "metadata": {},
   "outputs": [],
   "source": [
    "clf = svm.SVC(kernel='linear', C=1).fit(X_train, y_train)"
   ]
  },
  {
   "cell_type": "code",
   "execution_count": 20,
   "metadata": {
    "scrolled": true
   },
   "outputs": [
    {
     "data": {
      "text/plain": [
       "1.0"
      ]
     },
     "execution_count": 20,
     "metadata": {},
     "output_type": "execute_result"
    }
   ],
   "source": [
    "clf.score(X_test, y_test)                           \n"
   ]
  },
  {
   "cell_type": "code",
   "execution_count": null,
   "metadata": {},
   "outputs": [],
   "source": []
  },
  {
   "cell_type": "code",
   "execution_count": null,
   "metadata": {},
   "outputs": [],
   "source": []
  },
  {
   "cell_type": "code",
   "execution_count": 97,
   "metadata": {},
   "outputs": [
    {
     "data": {
      "text/plain": [
       "(-0.6931471805599453, 0.6931471805599453)"
      ]
     },
     "execution_count": 97,
     "metadata": {},
     "output_type": "execute_result"
    }
   ],
   "source": [
    "#自己寫一個衡量指標\n",
    "from  sklearn.metrics import make_scorer\n",
    "def my_custom_score_func(ground_truth, predictions):\n",
    "    print(ground_truth)\n",
    "    diff = np.abs(ground_truth - predictions).max()\n",
    "    return np.log(1 + diff)\n",
    "\n",
    "# loss_func will negate the return value of my_custom_loss_func,\n",
    "#  which will be np.log(2), 0.693, given the values for ground_truth\n",
    "#  and predictions defined below.\n",
    "loss  = make_scorer(my_custom_loss_func, greater_is_better=False)\n",
    "score = make_scorer(my_custom_loss_func, greater_is_better=True)\n",
    "ground_truth = [[1], [1]]\n",
    "predictions  = [0, 1]\n",
    "from sklearn.dummy import DummyClassifier\n",
    "clf = DummyClassifier(strategy='most_frequent', random_state=0)\n",
    "clf = clf.fit(ground_truth, predictions)\n",
    "\n",
    "loss(clf,ground_truth, predictions) ,score(clf,ground_truth, predictions) "
   ]
  },
  {
   "cell_type": "code",
   "execution_count": 126,
   "metadata": {},
   "outputs": [],
   "source": [
    "def my_custom_score_func(ground_truth, predictions):\n",
    "    return np.mean(np.abs((predictions- ground_truth)/ground_truth))"
   ]
  },
  {
   "cell_type": "code",
   "execution_count": 120,
   "metadata": {},
   "outputs": [
    {
     "data": {
      "text/plain": [
       "0.3273809523809524"
      ]
     },
     "execution_count": 120,
     "metadata": {},
     "output_type": "execute_result"
    }
   ],
   "source": [
    "np.mean(np.abs((predictions- ground_truth)/ground_truth))"
   ]
  },
  {
   "cell_type": "code",
   "execution_count": 124,
   "metadata": {},
   "outputs": [
    {
     "data": {
      "text/plain": [
       "array([ 0.5, -0.5,  0. , -1. ])"
      ]
     },
     "execution_count": 124,
     "metadata": {},
     "output_type": "execute_result"
    }
   ],
   "source": [
    "(ground_truth - predictions)"
   ]
  },
  {
   "cell_type": "code",
   "execution_count": 123,
   "metadata": {
    "scrolled": true
   },
   "outputs": [
    {
     "data": {
      "text/plain": [
       "array([ 0.16666667,  1.        ,  0.        , -0.14285714])"
      ]
     },
     "execution_count": 123,
     "metadata": {},
     "output_type": "execute_result"
    }
   ],
   "source": [
    "(ground_truth - predictions)/ground_truth"
   ]
  },
  {
   "cell_type": "code",
   "execution_count": 103,
   "metadata": {},
   "outputs": [],
   "source": [
    "from  sklearn.metrics  import mean_absolute_error"
   ]
  },
  {
   "cell_type": "code",
   "execution_count": 110,
   "metadata": {},
   "outputs": [
    {
     "data": {
      "text/plain": [
       "0.5"
      ]
     },
     "execution_count": 110,
     "metadata": {},
     "output_type": "execute_result"
    }
   ],
   "source": [
    "mean_absolute_error(y_true,y_pred)"
   ]
  },
  {
   "cell_type": "code",
   "execution_count": 111,
   "metadata": {},
   "outputs": [
    {
     "data": {
      "text/plain": [
       "array([0.5])"
      ]
     },
     "execution_count": 111,
     "metadata": {},
     "output_type": "execute_result"
    }
   ],
   "source": [
    "mean_absolute_error(y_true,y_pred,multioutput='raw_values')"
   ]
  },
  {
   "cell_type": "code",
   "execution_count": 101,
   "metadata": {
    "scrolled": false
   },
   "outputs": [
    {
     "ename": "TypeError",
     "evalue": "unsupported operand type(s) for -: 'list' and 'list'",
     "output_type": "error",
     "traceback": [
      "\u001b[1;31m---------------------------------------------------------------------------\u001b[0m",
      "\u001b[1;31mTypeError\u001b[0m                                 Traceback (most recent call last)",
      "\u001b[1;32m<ipython-input-101-0ea385720936>\u001b[0m in \u001b[0;36m<module>\u001b[1;34m()\u001b[0m\n\u001b[1;32m----> 1\u001b[1;33m \u001b[0my_true\u001b[0m \u001b[1;33m-\u001b[0m \u001b[0my_pred\u001b[0m\u001b[1;33m\u001b[0m\u001b[0m\n\u001b[0m",
      "\u001b[1;31mTypeError\u001b[0m: unsupported operand type(s) for -: 'list' and 'list'"
     ]
    }
   ],
   "source": [
    "y_true - y_pred"
   ]
  },
  {
   "cell_type": "code",
   "execution_count": 98,
   "metadata": {
    "scrolled": true
   },
   "outputs": [
    {
     "name": "stdout",
     "output_type": "stream",
     "text": [
      "[5.05174786 4.90193368 5.19647053]\n"
     ]
    }
   ],
   "source": [
    "diabetes = datasets.load_diabetes()\n",
    "X = diabetes.data[:150]\n",
    "y = diabetes.target[:150]\n",
    "lasso = linear_model.Lasso()\n",
    "print(cross_val_score(lasso, X, y,scoring=score))  "
   ]
  },
  {
   "cell_type": "code",
   "execution_count": 112,
   "metadata": {},
   "outputs": [],
   "source": [
    "reg = linear_model.LinearRegression()"
   ]
  },
  {
   "cell_type": "code",
   "execution_count": 113,
   "metadata": {},
   "outputs": [],
   "source": [
    "X = np.load('data/X_data.npy')"
   ]
  },
  {
   "cell_type": "code",
   "execution_count": 127,
   "metadata": {},
   "outputs": [],
   "source": [
    "def my_custom_score_func(ground_truth, predictions):\n",
    "    return np.mean(np.abs((predictions- ground_truth)/ground_truth))\n",
    "\n",
    "#https://github.com/scikit-learn/scikit-learn/blob/master/sklearn/metrics/scorer.py\n",
    "loss  = make_scorer(my_custom_score_func, greater_is_better=False)\n",
    "score = make_scorer(my_custom_score_func, greater_is_better=True)"
   ]
  },
  {
   "cell_type": "code",
   "execution_count": 114,
   "metadata": {
    "scrolled": true
   },
   "outputs": [
    {
     "data": {
      "text/plain": [
       "LinearRegression(copy_X=True, fit_intercept=True, n_jobs=1, normalize=False)"
      ]
     },
     "execution_count": 114,
     "metadata": {},
     "output_type": "execute_result"
    }
   ],
   "source": [
    "reg.fit(X,y= raw_data_Y['y_value_TI_3'][list(a)])"
   ]
  },
  {
   "cell_type": "code",
   "execution_count": 137,
   "metadata": {
    "scrolled": true
   },
   "outputs": [
    {
     "name": "stdout",
     "output_type": "stream",
     "text": [
      "[0.41127842 0.43542402 0.99125931 0.36360691 0.20980354 0.47504736\n",
      " 0.52917278 0.27871202 0.34122276 0.49453677]\n"
     ]
    }
   ],
   "source": [
    "print(cross_val_score(reg, X,y= raw_data_Y['y_value_TI_3'][list(a)],scoring=score,cv=10)) "
   ]
  },
  {
   "cell_type": "code",
   "execution_count": null,
   "metadata": {},
   "outputs": [],
   "source": [
    "reg = linear_model.LinearRegression()"
   ]
  },
  {
   "cell_type": "code",
   "execution_count": 156,
   "metadata": {
    "scrolled": true
   },
   "outputs": [
    {
     "data": {
      "text/plain": [
       "0.3568282508517402"
      ]
     },
     "execution_count": 156,
     "metadata": {},
     "output_type": "execute_result"
    }
   ],
   "source": [
    "reg = linear_model.LinearRegression(fit_intercept=True)\n",
    "mape = cross_val_score(reg, TrainX,y= raw_data_Y['y_value_TI_3'][list(a)],scoring=score,cv=4)\n",
    "mape.mean()"
   ]
  },
  {
   "cell_type": "code",
   "execution_count": 140,
   "metadata": {},
   "outputs": [
    {
     "data": {
      "text/plain": [
       "0.4530063884488337"
      ]
     },
     "execution_count": 140,
     "metadata": {},
     "output_type": "execute_result"
    }
   ],
   "source": []
  },
  {
   "cell_type": "code",
   "execution_count": 130,
   "metadata": {
    "scrolled": true
   },
   "outputs": [
    {
     "name": "stdout",
     "output_type": "stream",
     "text": [
      "[-0.41127842 -0.47169692 -0.83182488 -0.38857399 -0.31864882 -0.55360506\n",
      " -0.31019339 -0.29144763 -0.47534135]\n"
     ]
    }
   ],
   "source": [
    "print(cross_val_score(reg, X,y= raw_data_Y['y_value_TI_3'][list(a)],scoring=loss,cv=9)) "
   ]
  },
  {
   "cell_type": "code",
   "execution_count": null,
   "metadata": {},
   "outputs": [],
   "source": [
    "loss()"
   ]
  },
  {
   "cell_type": "code",
   "execution_count": 115,
   "metadata": {
    "scrolled": false
   },
   "outputs": [
    {
     "data": {
      "text/plain": [
       "array([0.12279496, 0.11798728, 0.1131796 , 0.15078436, 0.14597669,\n",
       "       0.14116901, 0.17877377, 0.1739661 , 0.16915842, 0.0820215 ,\n",
       "       0.07721383, 0.07240615, 0.11001091, 0.10520323, 0.10039556,\n",
       "       0.13800032, 0.13319264, 0.12838497, 0.04124805, 0.03644037,\n",
       "       0.0316327 , 0.06923746, 0.06442978, 0.0596221 , 0.09722686,\n",
       "       0.09241919, 0.08761151, 0.15266158, 0.1478539 , 0.14304622,\n",
       "       0.18065098, 0.17584331, 0.17103563, 0.20864039, 0.20383272,\n",
       "       0.19902504, 0.11188812, 0.10708045, 0.10227277, 0.13987753,\n",
       "       0.13506985, 0.13026218, 0.16786694, 0.16305926, 0.15825159,\n",
       "       0.07111467, 0.06630699, 0.06149932, 0.09910408, 0.0942964 ,\n",
       "       0.08948873, 0.12709349, 0.12228581, 0.11747813, 0.1825282 ,\n",
       "       0.17772052, 0.17291284, 0.21051761, 0.20570993, 0.20090225,\n",
       "       0.23850701, 0.23369934, 0.22889166, 0.14175474, 0.13694707,\n",
       "       0.13213939, 0.16974415, 0.16493648, 0.1601288 , 0.19773356,\n",
       "       0.19292588, 0.18811821, 0.10098129, 0.09617361, 0.09136594,\n",
       "       0.1289707 , 0.12416302, 0.11935535, 0.15696011, 0.15215243,\n",
       "       0.14734475])"
      ]
     },
     "execution_count": 115,
     "metadata": {},
     "output_type": "execute_result"
    }
   ],
   "source": [
    "reg.predict(X)"
   ]
  },
  {
   "cell_type": "code",
   "execution_count": null,
   "metadata": {},
   "outputs": [],
   "source": []
  },
  {
   "cell_type": "code",
   "execution_count": null,
   "metadata": {},
   "outputs": [],
   "source": [
    "#regression 訓練邏輯\n",
    "#第一步 先決定要幾次方和cross 要幾次"
   ]
  },
  {
   "cell_type": "code",
   "execution_count": null,
   "metadata": {},
   "outputs": [],
   "source": [
    "raw_data_Y = raw_data[[\"y_value_TI_3\",\"y_value_TI_15\",\"y_value_vel_3\",\"y_value_vel_15\"]]\n",
    "\n",
    "Y_list = [\"y_value_TI_3\",\"y_value_TI_15\",\"y_value_vel_3\",\"y_value_vel_15\"]\n"
   ]
  },
  {
   "cell_type": "code",
   "execution_count": null,
   "metadata": {},
   "outputs": [],
   "source": [
    "def train_model(inX,deg = 2):\n",
    "    poly = PolynomialFeatures(deg,include_bias = False)\n",
    "    TrainX = poly.fit_transform(inX)\n",
    "    pre_fun = {}\n",
    "    mape_list = {}\n",
    "    R_list = {}\n",
    "    for index,y in enumerate (Y_list):\n",
    "        raw_Y = raw_data_Y[y]\n",
    "        for i in range(10):\n",
    "            model = linear_model.LinearRegression()\n",
    "            a = range(i,810,10)\n",
    "            Train_Y = raw_Y[list(a)]\n",
    "            pre_fun[y[8:]+\"_\"+str(i)] = model.fit(TrainX,Train_Y)\n",
    "            mape_list[y[8:]+\"_\"+str(i)] = mean_absolute_error(Train_Y,model.predict(TrainX))\n",
    "            \n",
    "    return pre_fun,mape_list\n",
    "\n",
    "Multiple_Regression_Model ,MAE = train_model(X)"
   ]
  },
  {
   "cell_type": "code",
   "execution_count": 174,
   "metadata": {},
   "outputs": [],
   "source": [
    "def my_custom_score_func(ground_truth, predictions):\n",
    "    return np.mean(np.abs((predictions- ground_truth)/ground_truth))\n",
    "\n",
    "#https://github.com/scikit-learn/scikit-learn/blob/master/sklearn/metrics/scorer.py\n",
    "loss  = make_scorer(my_custom_score_func, greater_is_better=False)\n",
    "score = make_scorer(my_custom_score_func, greater_is_better=True)"
   ]
  },
  {
   "cell_type": "code",
   "execution_count": 213,
   "metadata": {},
   "outputs": [
    {
     "name": "stdout",
     "output_type": "stream",
     "text": [
      "1\n",
      "y_value_TI_3_0_MAPE:0.4793720027705468\n",
      "y_value_TI_3_1_MAPE:0.4749473327436368\n",
      "y_value_TI_3_2_MAPE:0.47093420814184356\n",
      "y_value_TI_3_3_MAPE:0.47237236759981766\n",
      "y_value_TI_3_4_MAPE:0.4786050366487763\n",
      "y_value_TI_3_5_MAPE:0.48863345742353337\n",
      "y_value_TI_3_6_MAPE:0.5008509535821837\n",
      "y_value_TI_3_7_MAPE:0.5134989365644781\n",
      "y_value_TI_3_8_MAPE:0.5254156216136275\n",
      "y_value_TI_3_9_MAPE:0.5311693557334841\n",
      "y_value_TI_15_0_MAPE:0.12699008031169243\n",
      "y_value_TI_15_1_MAPE:0.1466720284475003\n",
      "y_value_TI_15_2_MAPE:0.1731213535774343\n",
      "y_value_TI_15_3_MAPE:0.19392859196932452\n",
      "y_value_TI_15_4_MAPE:0.19703943414990324\n",
      "y_value_TI_15_5_MAPE:0.0856610284446086\n",
      "y_value_TI_15_6_MAPE:0.05018141147512508\n",
      "y_value_TI_15_7_MAPE:0.044625017277919315\n",
      "y_value_TI_15_8_MAPE:0.04399703745059708\n",
      "y_value_TI_15_9_MAPE:0.04434177583525295\n",
      "y_value_vel_3_0_MAPE:0.09970607820361901\n",
      "y_value_vel_3_1_MAPE:0.09362788035734446\n",
      "y_value_vel_3_2_MAPE:0.08890315970858637\n",
      "y_value_vel_3_3_MAPE:0.08662371217992465\n",
      "y_value_vel_3_4_MAPE:0.08541132829371521\n",
      "y_value_vel_3_5_MAPE:0.08470807924164009\n",
      "y_value_vel_3_6_MAPE:0.08400659611826448\n",
      "y_value_vel_3_7_MAPE:0.08327973409084723\n",
      "y_value_vel_3_8_MAPE:0.08270150219701378\n",
      "y_value_vel_3_9_MAPE:0.08233674560825407\n",
      "y_value_vel_15_0_MAPE:0.046247123023124885\n",
      "y_value_vel_15_1_MAPE:0.047344694099561706\n",
      "y_value_vel_15_2_MAPE:0.044616990651325183\n",
      "y_value_vel_15_3_MAPE:0.043325084548743044\n",
      "y_value_vel_15_4_MAPE:0.04190828578312262\n",
      "y_value_vel_15_5_MAPE:0.0361286003446391\n",
      "y_value_vel_15_6_MAPE:0.02515382612586888\n",
      "y_value_vel_15_7_MAPE:0.0171810182536362\n",
      "y_value_vel_15_8_MAPE:0.012073445963568762\n",
      "y_value_vel_15_9_MAPE:0.008736188407018765\n",
      "2\n",
      "y_value_TI_3_0_MAPE:0.39638948609385205\n",
      "y_value_TI_3_1_MAPE:0.3720148594462765\n",
      "y_value_TI_3_2_MAPE:0.3490342508732415\n",
      "y_value_TI_3_3_MAPE:0.3321932410259979\n",
      "y_value_TI_3_4_MAPE:0.32280048120553895\n",
      "y_value_TI_3_5_MAPE:0.32307534953804934\n",
      "y_value_TI_3_6_MAPE:0.32713105594581976\n",
      "y_value_TI_3_7_MAPE:0.33123804672272833\n",
      "y_value_TI_3_8_MAPE:0.33363854377051616\n",
      "y_value_TI_3_9_MAPE:0.33351425503633875\n",
      "y_value_TI_15_0_MAPE:0.13988904294444626\n",
      "y_value_TI_15_1_MAPE:0.15109206043492948\n",
      "y_value_TI_15_2_MAPE:0.16052067242742965\n",
      "y_value_TI_15_3_MAPE:0.16667003471673583\n",
      "y_value_TI_15_4_MAPE:0.16164461414629927\n",
      "y_value_TI_15_5_MAPE:0.07417258890327164\n",
      "y_value_TI_15_6_MAPE:0.04118258939903763\n",
      "y_value_TI_15_7_MAPE:0.03489137758632252\n",
      "y_value_TI_15_8_MAPE:0.03354542508160549\n",
      "y_value_TI_15_9_MAPE:0.03349969659765522\n",
      "y_value_vel_3_0_MAPE:0.06948975692439203\n",
      "y_value_vel_3_1_MAPE:0.06607697498288939\n",
      "y_value_vel_3_2_MAPE:0.06457433430488521\n",
      "y_value_vel_3_3_MAPE:0.06382372462066782\n",
      "y_value_vel_3_4_MAPE:0.06336152458266817\n",
      "y_value_vel_3_5_MAPE:0.06261933385603483\n",
      "y_value_vel_3_6_MAPE:0.06150947328991306\n",
      "y_value_vel_3_7_MAPE:0.06045411965831674\n",
      "y_value_vel_3_8_MAPE:0.05998103791436887\n",
      "y_value_vel_3_9_MAPE:0.05959652442968015\n",
      "y_value_vel_15_0_MAPE:0.033859248872167964\n",
      "y_value_vel_15_1_MAPE:0.03571742698300768\n",
      "y_value_vel_15_2_MAPE:0.036048906341273376\n",
      "y_value_vel_15_3_MAPE:0.03704178007902562\n",
      "y_value_vel_15_4_MAPE:0.03688798434830981\n",
      "y_value_vel_15_5_MAPE:0.032223305728882316\n",
      "y_value_vel_15_6_MAPE:0.022506340734967947\n",
      "y_value_vel_15_7_MAPE:0.015359564900071761\n",
      "y_value_vel_15_8_MAPE:0.010698622402649337\n",
      "y_value_vel_15_9_MAPE:0.007665126339676991\n",
      "3\n",
      "y_value_TI_3_0_MAPE:0.3450871216689702\n",
      "y_value_TI_3_1_MAPE:0.3114616111435674\n",
      "y_value_TI_3_2_MAPE:0.28459787063990943\n",
      "y_value_TI_3_3_MAPE:0.2631428163841158\n",
      "y_value_TI_3_4_MAPE:0.2405461118527377\n",
      "y_value_TI_3_5_MAPE:0.21172043983097436\n",
      "y_value_TI_3_6_MAPE:0.18639742052113567\n",
      "y_value_TI_3_7_MAPE:0.17934218915500844\n",
      "y_value_TI_3_8_MAPE:0.1762435930947923\n",
      "y_value_TI_3_9_MAPE:0.17228767328017214\n",
      "y_value_TI_15_0_MAPE:0.14207260136576663\n",
      "y_value_TI_15_1_MAPE:0.13751170202450913\n",
      "y_value_TI_15_2_MAPE:0.13101377046189194\n",
      "y_value_TI_15_3_MAPE:0.12460584252685525\n",
      "y_value_TI_15_4_MAPE:0.11342635912478631\n",
      "y_value_TI_15_5_MAPE:0.0582391362825177\n",
      "y_value_TI_15_6_MAPE:0.038415067019979064\n",
      "y_value_TI_15_7_MAPE:0.03354531047700759\n",
      "y_value_TI_15_8_MAPE:0.03277538636488302\n",
      "y_value_TI_15_9_MAPE:0.03312172347909065\n",
      "y_value_vel_3_0_MAPE:0.06310530865071069\n",
      "y_value_vel_3_1_MAPE:0.0611130002488689\n",
      "y_value_vel_3_2_MAPE:0.059390821633757536\n",
      "y_value_vel_3_3_MAPE:0.05979986513633117\n",
      "y_value_vel_3_4_MAPE:0.059598259263217476\n",
      "y_value_vel_3_5_MAPE:0.05836335515309906\n",
      "y_value_vel_3_6_MAPE:0.05641166322682761\n",
      "y_value_vel_3_7_MAPE:0.05433572895455363\n",
      "y_value_vel_3_8_MAPE:0.05256757387888501\n",
      "y_value_vel_3_9_MAPE:0.05114153456454294\n",
      "y_value_vel_15_0_MAPE:0.03508621445703385\n",
      "y_value_vel_15_1_MAPE:0.03558718545947248\n",
      "y_value_vel_15_2_MAPE:0.0335696195500615\n",
      "y_value_vel_15_3_MAPE:0.0346492637547782\n",
      "y_value_vel_15_4_MAPE:0.034715683170546345\n",
      "y_value_vel_15_5_MAPE:0.02905920104598004\n",
      "y_value_vel_15_6_MAPE:0.020652176025858626\n",
      "y_value_vel_15_7_MAPE:0.014325313431055987\n",
      "y_value_vel_15_8_MAPE:0.01002968697230054\n",
      "y_value_vel_15_9_MAPE:0.007198715996168507\n",
      "4\n",
      "y_value_TI_3_0_MAPE:0.23462540676364949\n",
      "y_value_TI_3_1_MAPE:0.2793960761025281\n",
      "y_value_TI_3_2_MAPE:0.3213438967182573\n",
      "y_value_TI_3_3_MAPE:0.33572881431711477\n",
      "y_value_TI_3_4_MAPE:0.32290663585315293\n",
      "y_value_TI_3_5_MAPE:0.2852795650686341\n",
      "y_value_TI_3_6_MAPE:0.24653417492771498\n",
      "y_value_TI_3_7_MAPE:0.22026123822531365\n",
      "y_value_TI_3_8_MAPE:0.2050201998393886\n",
      "y_value_TI_3_9_MAPE:0.19885297447105557\n",
      "y_value_TI_15_0_MAPE:0.1095540220392995\n",
      "y_value_TI_15_1_MAPE:0.11729193388961055\n",
      "y_value_TI_15_2_MAPE:0.12714186936204794\n",
      "y_value_TI_15_3_MAPE:0.1343894810082647\n",
      "y_value_TI_15_4_MAPE:0.13502972197751462\n",
      "y_value_TI_15_5_MAPE:0.06655512152997065\n",
      "y_value_TI_15_6_MAPE:0.05951795281404458\n",
      "y_value_TI_15_7_MAPE:0.0558865929416248\n",
      "y_value_TI_15_8_MAPE:0.05400809964251585\n",
      "y_value_TI_15_9_MAPE:0.05256923746681775\n",
      "y_value_vel_3_0_MAPE:0.08322643115906783\n",
      "y_value_vel_3_1_MAPE:0.07818985177331444\n",
      "y_value_vel_3_2_MAPE:0.0717953920947659\n",
      "y_value_vel_3_3_MAPE:0.0687868154745895\n",
      "y_value_vel_3_4_MAPE:0.06673641842831628\n",
      "y_value_vel_3_5_MAPE:0.06410792817397148\n",
      "y_value_vel_3_6_MAPE:0.06074738447723956\n",
      "y_value_vel_3_7_MAPE:0.05740766226596318\n",
      "y_value_vel_3_8_MAPE:0.054426943572539695\n",
      "y_value_vel_3_9_MAPE:0.05176223051882372\n",
      "y_value_vel_15_0_MAPE:0.0578034151374553\n",
      "y_value_vel_15_1_MAPE:0.06230443657768916\n",
      "y_value_vel_15_2_MAPE:0.0545676404230759\n",
      "y_value_vel_15_3_MAPE:0.05047562563960427\n",
      "y_value_vel_15_4_MAPE:0.04663747258292283\n",
      "y_value_vel_15_5_MAPE:0.03733404305247423\n",
      "y_value_vel_15_6_MAPE:0.027583216973111332\n",
      "y_value_vel_15_7_MAPE:0.020093417986567445\n",
      "y_value_vel_15_8_MAPE:0.014707481856885475\n",
      "y_value_vel_15_9_MAPE:0.010906335489205391\n",
      "5\n",
      "y_value_TI_3_0_MAPE:0.49252935383689156\n",
      "y_value_TI_3_1_MAPE:0.754804070210942\n",
      "y_value_TI_3_2_MAPE:0.8756163151958162\n",
      "y_value_TI_3_3_MAPE:0.880556035254139\n",
      "y_value_TI_3_4_MAPE:0.810233069161655\n",
      "y_value_TI_3_5_MAPE:0.6780798781867687\n",
      "y_value_TI_3_6_MAPE:0.5397496241308143\n",
      "y_value_TI_3_7_MAPE:0.4303584339556709\n",
      "y_value_TI_3_8_MAPE:0.3465023833621543\n",
      "y_value_TI_3_9_MAPE:0.26755837619093775\n",
      "y_value_TI_15_0_MAPE:0.12168912165933793\n",
      "y_value_TI_15_1_MAPE:0.13039012630411337\n",
      "y_value_TI_15_2_MAPE:0.13330019802548487\n",
      "y_value_TI_15_3_MAPE:0.12881128848825382\n",
      "y_value_TI_15_4_MAPE:0.1501921645830116\n",
      "y_value_TI_15_5_MAPE:0.06556510339076325\n",
      "y_value_TI_15_6_MAPE:0.06263576375178503\n",
      "y_value_TI_15_7_MAPE:0.06198007598141881\n",
      "y_value_TI_15_8_MAPE:0.06228548234924736\n",
      "y_value_TI_15_9_MAPE:0.06260188812429869\n",
      "y_value_vel_3_0_MAPE:0.194412458956662\n",
      "y_value_vel_3_1_MAPE:0.15278929211097955\n",
      "y_value_vel_3_2_MAPE:0.09907617427433912\n",
      "y_value_vel_3_3_MAPE:0.06960928472669159\n",
      "y_value_vel_3_4_MAPE:0.05977504328540966\n",
      "y_value_vel_3_5_MAPE:0.05486150223679866\n",
      "y_value_vel_3_6_MAPE:0.0511106441569826\n",
      "y_value_vel_3_7_MAPE:0.04760203501273278\n",
      "y_value_vel_3_8_MAPE:0.04438683226723654\n",
      "y_value_vel_3_9_MAPE:0.041536996349600966\n",
      "y_value_vel_15_0_MAPE:0.10303954147996522\n",
      "y_value_vel_15_1_MAPE:0.10958124556502923\n",
      "y_value_vel_15_2_MAPE:0.09004760162393893\n",
      "y_value_vel_15_3_MAPE:0.07534523233302155\n",
      "y_value_vel_15_4_MAPE:0.05953723434826698\n",
      "y_value_vel_15_5_MAPE:0.042975054885406615\n",
      "y_value_vel_15_6_MAPE:0.03215749627661706\n",
      "y_value_vel_15_7_MAPE:0.023664188702879514\n",
      "y_value_vel_15_8_MAPE:0.017513707279103806\n",
      "y_value_vel_15_9_MAPE:0.013182876050454043\n"
     ]
    }
   ],
   "source": [
    "Power_index = range(1,6)\n",
    "raw_X = np.load('data/X_data.npy')\n",
    "#81 case\n",
    "#(81, 4)\n",
    "performace= []\n",
    "for power in Power_index:\n",
    "    poly = PolynomialFeatures(power,include_bias = False)\n",
    "    X = poly.fit_transform(raw_X)\n",
    "    print(power)\n",
    "    for index,y in enumerate (Y_list):\n",
    "        \n",
    "        raw_Y = raw_data_Y[y]\n",
    "        for i in range(10):\n",
    "            #print(y+\"_\"+str(i))\n",
    "            model = linear_model.LinearRegression()\n",
    "            a = range(i,810,10)\n",
    "            input_y = raw_Y[list(a)]\n",
    "            mape = cross_val_score(model, X,input_y,scoring=score,cv=27)\n",
    "            print(y+\"_\"+str(i)+\"_MAPE:\"+str(mape.mean()))\n",
    "            performace.append(mape.mean())\n"
   ]
  },
  {
   "cell_type": "code",
   "execution_count": 214,
   "metadata": {},
   "outputs": [],
   "source": [
    "np_per = np.array(performace).reshape((5,40))"
   ]
  },
  {
   "cell_type": "code",
   "execution_count": 215,
   "metadata": {},
   "outputs": [
    {
     "data": {
      "text/plain": [
       "array([0.18090943, 0.13294082, 0.10115635, 0.11503733, 0.21094108])"
      ]
     },
     "execution_count": 215,
     "metadata": {},
     "output_type": "execute_result"
    }
   ],
   "source": [
    "np_per.mean(axis=1)"
   ]
  },
  {
   "cell_type": "code",
   "execution_count": 200,
   "metadata": {
    "scrolled": true
   },
   "outputs": [
    {
     "data": {
      "text/plain": [
       "array([0.18090943, 0.13294082, 0.10115635, 0.11503733, 0.21094108])"
      ]
     },
     "execution_count": 200,
     "metadata": {},
     "output_type": "execute_result"
    }
   ],
   "source": [
    "np_per.mean(axis=1)"
   ]
  },
  {
   "cell_type": "code",
   "execution_count": 208,
   "metadata": {},
   "outputs": [],
   "source": [
    "new_ticks = np.linspace(0, 6, 7)"
   ]
  },
  {
   "cell_type": "code",
   "execution_count": 209,
   "metadata": {},
   "outputs": [
    {
     "data": {
      "text/plain": [
       "([<matplotlib.axis.XTick at 0x23be7e9d6d8>,\n",
       "  <matplotlib.axis.XTick at 0x23be8213940>,\n",
       "  <matplotlib.axis.XTick at 0x23be4d72d68>,\n",
       "  <matplotlib.axis.XTick at 0x23be7f9bc88>,\n",
       "  <matplotlib.axis.XTick at 0x23be7fa5320>,\n",
       "  <matplotlib.axis.XTick at 0x23be7fa5978>,\n",
       "  <matplotlib.axis.XTick at 0x23be7fa5fd0>],\n",
       " <a list of 7 Text xticklabel objects>)"
      ]
     },
     "execution_count": 209,
     "metadata": {},
     "output_type": "execute_result"
    },
    {
     "data": {
      "image/png": "[encoded data removed]",
      "text/plain": [
       "<matplotlib.figure.Figure at 0x23be7eb72b0>"
      ]
     },
     "metadata": {},
     "output_type": "display_data"
    }
   ],
   "source": [
    "plt.plot(range(1,6),np_per.mean(axis=1),)\n",
    "plt.xlabel(\"The power index\")\n",
    "plt.ylabel('Cross-Validated Accuracy')\n",
    "plt.xticks(new_ticks)"
   ]
  },
  {
   "cell_type": "code",
   "execution_count": 181,
   "metadata": {},
   "outputs": [
    {
     "data": {
      "text/plain": [
       "[0.4793720027705468,\n",
       " 0.4749473327436368,\n",
       " 0.47093420814184356,\n",
       " 0.47237236759981766,\n",
       " 0.4786050366487763,\n",
       " 0.48863345742353337,\n",
       " 0.5008509535821837,\n",
       " 0.5134989365644781,\n",
       " 0.5254156216136275,\n",
       " 0.5311693557334841,\n",
       " 0.12699008031169243,\n",
       " 0.1466720284475003,\n",
       " 0.1731213535774343,\n",
       " 0.19392859196932452,\n",
       " 0.19703943414990324,\n",
       " 0.0856610284446086,\n",
       " 0.05018141147512508,\n",
       " 0.044625017277919315,\n",
       " 0.04399703745059708,\n",
       " 0.04434177583525295,\n",
       " 0.09970607820361901,\n",
       " 0.09362788035734446,\n",
       " 0.08890315970858637,\n",
       " 0.08662371217992465,\n",
       " 0.08541132829371521,\n",
       " 0.08470807924164009,\n",
       " 0.08400659611826448,\n",
       " 0.08327973409084723,\n",
       " 0.08270150219701378,\n",
       " 0.08233674560825407,\n",
       " 0.046247123023124885,\n",
       " 0.047344694099561706,\n",
       " 0.044616990651325183,\n",
       " 0.043325084548743044,\n",
       " 0.04190828578312262,\n",
       " 0.0361286003446391,\n",
       " 0.02515382612586888,\n",
       " 0.0171810182536362,\n",
       " 0.012073445963568762,\n",
       " 0.008736188407018765,\n",
       " 0.39638948609385205,\n",
       " 0.3720148594462765,\n",
       " 0.3490342508732415,\n",
       " 0.3321932410259979,\n",
       " 0.32280048120553895,\n",
       " 0.32307534953804934,\n",
       " 0.32713105594581976,\n",
       " 0.33123804672272833,\n",
       " 0.33363854377051616,\n",
       " 0.33351425503633875,\n",
       " 0.13988904294444626,\n",
       " 0.15109206043492948,\n",
       " 0.16052067242742965,\n",
       " 0.16667003471673583,\n",
       " 0.16164461414629927,\n",
       " 0.07417258890327164,\n",
       " 0.04118258939903763,\n",
       " 0.03489137758632252,\n",
       " 0.03354542508160549,\n",
       " 0.03349969659765522,\n",
       " 0.06948975692439203,\n",
       " 0.06607697498288939,\n",
       " 0.06457433430488521,\n",
       " 0.06382372462066782,\n",
       " 0.06336152458266817,\n",
       " 0.06261933385603483,\n",
       " 0.06150947328991306,\n",
       " 0.06045411965831674,\n",
       " 0.05998103791436887,\n",
       " 0.05959652442968015,\n",
       " 0.033859248872167964,\n",
       " 0.03571742698300768,\n",
       " 0.036048906341273376,\n",
       " 0.03704178007902562,\n",
       " 0.03688798434830981,\n",
       " 0.032223305728882316,\n",
       " 0.022506340734967947,\n",
       " 0.015359564900071761,\n",
       " 0.010698622402649337,\n",
       " 0.007665126339676991,\n",
       " 0.3450871216689702,\n",
       " 0.3114616111435674,\n",
       " 0.28459787063990943,\n",
       " 0.2631428163841158,\n",
       " 0.2405461118527377,\n",
       " 0.21172043983097436,\n",
       " 0.18639742052113567,\n",
       " 0.17934218915500844,\n",
       " 0.1762435930947923,\n",
       " 0.17228767328017214,\n",
       " 0.14207260136576663,\n",
       " 0.13751170202450913,\n",
       " 0.13101377046189194,\n",
       " 0.12460584252685525,\n",
       " 0.11342635912478631,\n",
       " 0.0582391362825177,\n",
       " 0.038415067019979064,\n",
       " 0.03354531047700759,\n",
       " 0.03277538636488302,\n",
       " 0.03312172347909065,\n",
       " 0.06310530865071069,\n",
       " 0.0611130002488689,\n",
       " 0.059390821633757536,\n",
       " 0.05979986513633117,\n",
       " 0.059598259263217476,\n",
       " 0.05836335515309906,\n",
       " 0.05641166322682761,\n",
       " 0.05433572895455363,\n",
       " 0.05256757387888501,\n",
       " 0.05114153456454294,\n",
       " 0.03508621445703385,\n",
       " 0.03558718545947248,\n",
       " 0.0335696195500615,\n",
       " 0.0346492637547782,\n",
       " 0.034715683170546345,\n",
       " 0.02905920104598004,\n",
       " 0.020652176025858626,\n",
       " 0.014325313431055987,\n",
       " 0.01002968697230054,\n",
       " 0.007198715996168507,\n",
       " 0.23462540676364949,\n",
       " 0.2793960761025281,\n",
       " 0.3213438967182573,\n",
       " 0.33572881431711477,\n",
       " 0.32290663585315293,\n",
       " 0.2852795650686341,\n",
       " 0.24653417492771498,\n",
       " 0.22026123822531365,\n",
       " 0.2050201998393886,\n",
       " 0.19885297447105557,\n",
       " 0.1095540220392995,\n",
       " 0.11729193388961055,\n",
       " 0.12714186936204794,\n",
       " 0.1343894810082647,\n",
       " 0.13502972197751462,\n",
       " 0.06655512152997065,\n",
       " 0.05951795281404458,\n",
       " 0.0558865929416248,\n",
       " 0.05400809964251585,\n",
       " 0.05256923746681775,\n",
       " 0.08322643115906783,\n",
       " 0.07818985177331444,\n",
       " 0.0717953920947659,\n",
       " 0.0687868154745895,\n",
       " 0.06673641842831628,\n",
       " 0.06410792817397148,\n",
       " 0.06074738447723956,\n",
       " 0.05740766226596318,\n",
       " 0.054426943572539695,\n",
       " 0.05176223051882372,\n",
       " 0.0578034151374553,\n",
       " 0.06230443657768916,\n",
       " 0.0545676404230759,\n",
       " 0.05047562563960427,\n",
       " 0.04663747258292283,\n",
       " 0.03733404305247423,\n",
       " 0.027583216973111332,\n",
       " 0.020093417986567445,\n",
       " 0.014707481856885475,\n",
       " 0.010906335489205391,\n",
       " 0.49252935383689156,\n",
       " 0.754804070210942,\n",
       " 0.8756163151958162,\n",
       " 0.880556035254139,\n",
       " 0.810233069161655,\n",
       " 0.6780798781867687,\n",
       " 0.5397496241308143,\n",
       " 0.4303584339556709,\n",
       " 0.3465023833621543,\n",
       " 0.26755837619093775,\n",
       " 0.12168912165933793,\n",
       " 0.13039012630411337,\n",
       " 0.13330019802548487,\n",
       " 0.12881128848825382,\n",
       " 0.1501921645830116,\n",
       " 0.06556510339076325,\n",
       " 0.06263576375178503,\n",
       " 0.06198007598141881,\n",
       " 0.06228548234924736,\n",
       " 0.06260188812429869,\n",
       " 0.194412458956662,\n",
       " 0.15278929211097955,\n",
       " 0.09907617427433912,\n",
       " 0.06960928472669159,\n",
       " 0.05977504328540966,\n",
       " 0.05486150223679866,\n",
       " 0.0511106441569826,\n",
       " 0.04760203501273278,\n",
       " 0.04438683226723654,\n",
       " 0.041536996349600966,\n",
       " 0.10303954147996522,\n",
       " 0.10958124556502923,\n",
       " 0.09004760162393893,\n",
       " 0.07534523233302155,\n",
       " 0.05953723434826698,\n",
       " 0.042975054885406615,\n",
       " 0.03215749627661706,\n",
       " 0.023664188702879514,\n",
       " 0.017513707279103806,\n",
       " 0.013182876050454043]"
      ]
     },
     "execution_count": 181,
     "metadata": {},
     "output_type": "execute_result"
    }
   ],
   "source": [
    "performace\n"
   ]
  },
  {
   "cell_type": "code",
   "execution_count": 180,
   "metadata": {},
   "outputs": [
    {
     "data": {
      "text/plain": [
       "200"
      ]
     },
     "execution_count": 180,
     "metadata": {},
     "output_type": "execute_result"
    }
   ],
   "source": [
    "len(performace)"
   ]
  },
  {
   "cell_type": "code",
   "execution_count": 164,
   "metadata": {},
   "outputs": [
    {
     "data": {
      "text/plain": [
       "array([2.02965734e-01, 6.45287675e-01, 1.20716813e+00, 9.78961591e+12])"
      ]
     },
     "execution_count": 164,
     "metadata": {},
     "output_type": "execute_result"
    }
   ],
   "source": [
    "cross_val_score(reg, TrainX,y= raw_data_Y['y_value_TI_3'][list(a)],scoring=score,cv=4).mean()"
   ]
  },
  {
   "cell_type": "code",
   "execution_count": null,
   "metadata": {},
   "outputs": [],
   "source": [
    "reg = linear_model.LinearRegression(fit_intercept=True)\n",
    "mape = cross_val_score(reg, TrainX,y= raw_data_Y['y_value_TI_3'][list(a)],scoring=score,cv=4)\n",
    "mape.mean()"
   ]
  }
 ],
 "metadata": {
  "kernelspec": {
   "display_name": "Python 3",
   "language": "python",
   "name": "python3"
  },
  "language_info": {
   "codemirror_mode": {
    "name": "ipython",
    "version": 3
   },
   "file_extension": ".py",
   "mimetype": "text/x-python",
   "name": "python",
   "nbconvert_exporter": "python",
   "pygments_lexer": "ipython3",
   "version": "3.6.4"
  }
 },
 "nbformat": 4,
 "nbformat_minor": 2
}
